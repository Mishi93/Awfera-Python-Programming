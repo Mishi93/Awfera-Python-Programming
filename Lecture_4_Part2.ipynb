{
  "nbformat": 4,
  "nbformat_minor": 0,
  "metadata": {
    "colab": {
      "provenance": []
    },
    "kernelspec": {
      "name": "python3",
      "display_name": "Python 3"
    },
    "language_info": {
      "name": "python"
    }
  },
  "cells": [
    {
      "cell_type": "markdown",
      "source": [
        "#Data Types in Python\n",
        "In the last lecture, we covered the basics of variables in Python and discussed some fundamental data types. Today's lecture continues from the previous one, focusing more on data types in detail, with a hands-on practical approach. This lecture is designed to help you understand Python collections, their best practices, and their practical implementations.\n",
        "\n",
        "##Today's Lecture Overview\n",
        "Understanding Python collections in depth\n",
        "Hands-on practice of collections\n",
        "Best practices for using collections effectively\n",
        "Setting up and using a virtual environment for Python programming\n",
        "Understanding Python Data Structures: Dictionary, List, Tuple, and Strings\n",
        "1. Python Dictionary\n",
        "A dictionary in Python is a collection of key-value pairs. Each key is unique, and values can be accessed, updated, or removed using various dictionary operations.\n",
        "---\n",
        "###Creating a Dictionary\n",
        "A dictionary is defined using curly braces {}:"
      ],
      "metadata": {
        "id": "tPmYYmKFNJGe"
      }
    },
    {
      "cell_type": "code",
      "execution_count": 2,
      "metadata": {
        "colab": {
          "base_uri": "https://localhost:8080/"
        },
        "id": "W_R1y4aJNFV8",
        "outputId": "3f937758-ec9c-4815-9a95-7b720ecec7c9"
      },
      "outputs": [
        {
          "output_type": "stream",
          "name": "stdout",
          "text": [
            "{'name': 'John', 'age': 30, 'city': 'New York'}\n"
          ]
        }
      ],
      "source": [
        "person = {\n",
        "\n",
        "    \"name\": \"John\",\n",
        "\n",
        "    \"age\": 30,\n",
        "\n",
        "    \"city\": \"New York\"\n",
        "\n",
        "}\n",
        "\n",
        "print(person)"
      ]
    },
    {
      "cell_type": "markdown",
      "source": [
        "###Accessing Elements in a Dictionary\n",
        "We can retrieve values using keys:"
      ],
      "metadata": {
        "id": "hFTet7u5Nga5"
      }
    },
    {
      "cell_type": "code",
      "source": [
        "print(person[\"name\"])  # Output: John\n",
        "\n",
        "#Using .get() method is a best practice as it prevents exceptions:\n",
        "\n",
        "print(person.get(\"name\"))  # Output: John\n",
        "\n",
        "print(person.get(\"gender\", \"Not Found\"))  # Output: Not Found"
      ],
      "metadata": {
        "colab": {
          "base_uri": "https://localhost:8080/"
        },
        "id": "U1jVVZxRNj8E",
        "outputId": "e7303d34-44fc-4955-a28a-c8040bcd248a"
      },
      "execution_count": 3,
      "outputs": [
        {
          "output_type": "stream",
          "name": "stdout",
          "text": [
            "John\n",
            "John\n",
            "Not Found\n"
          ]
        }
      ]
    },
    {
      "cell_type": "markdown",
      "source": [
        "###Adding and Updating Elements\n",
        "If the key exists, its value is updated; otherwise, a new key-value pair is added."
      ],
      "metadata": {
        "id": "V7b-f8n_Nuec"
      }
    },
    {
      "cell_type": "code",
      "source": [
        "person[\"country\"] = \"USA\"  # Adding new key-value pair\n",
        "\n",
        "person[\"city\"] = \"London\"  # Updating an existing value\n",
        "\n",
        "print(person)"
      ],
      "metadata": {
        "colab": {
          "base_uri": "https://localhost:8080/"
        },
        "id": "eYb0tXSkNwjc",
        "outputId": "2b30999c-7f8c-4299-e3d0-1d886f60a32d"
      },
      "execution_count": 5,
      "outputs": [
        {
          "output_type": "stream",
          "name": "stdout",
          "text": [
            "{'name': 'John', 'age': 30, 'city': 'London', 'country': 'USA'}\n"
          ]
        }
      ]
    },
    {
      "cell_type": "markdown",
      "source": [
        "###Removing Elements\n",
        "We can remove elements using the del statement:"
      ],
      "metadata": {
        "id": "fNfP9tdmN9dW"
      }
    },
    {
      "cell_type": "code",
      "source": [
        "del person[\"age\"]\n",
        "\n",
        "print(person)  # Output: {'name': 'John', 'city': 'London', 'country': 'USA'}"
      ],
      "metadata": {
        "colab": {
          "base_uri": "https://localhost:8080/"
        },
        "id": "AeD0hkjsN_K9",
        "outputId": "00c3a94a-18f2-4f5b-c0c9-17ae42dc78d6"
      },
      "execution_count": 6,
      "outputs": [
        {
          "output_type": "stream",
          "name": "stdout",
          "text": [
            "{'name': 'John', 'city': 'London', 'country': 'USA'}\n"
          ]
        }
      ]
    },
    {
      "cell_type": "markdown",
      "source": [
        "###Checking Key Existence\n",
        "To verify whether a key exists in a dictionary:"
      ],
      "metadata": {
        "id": "FYkv6A6uOE-W"
      }
    },
    {
      "cell_type": "code",
      "source": [
        "if \"name\" in person:\n",
        "\n",
        "    print(\"Key exists\")  # Output: Key exists"
      ],
      "metadata": {
        "colab": {
          "base_uri": "https://localhost:8080/"
        },
        "id": "CXP9KGgfOGWv",
        "outputId": "a2eb63b9-33bb-4518-d197-d0c22aca0d44"
      },
      "execution_count": 7,
      "outputs": [
        {
          "output_type": "stream",
          "name": "stdout",
          "text": [
            "Key exists\n"
          ]
        }
      ]
    },
    {
      "cell_type": "markdown",
      "source": [
        "---\n",
        "2. Lists in Python\n",
        "A list is a collection of ordered elements that allows duplicate values and supports modifications.\n",
        "\n",
        "##Creating a List\n",
        "\n"
      ],
      "metadata": {
        "id": "21Ut4NJ7OOML"
      }
    },
    {
      "cell_type": "code",
      "source": [
        "numbers = [10, 20, 30, 40]"
      ],
      "metadata": {
        "id": "3GTjBnhgOZiz"
      },
      "execution_count": 8,
      "outputs": []
    },
    {
      "cell_type": "markdown",
      "source": [
        "##Accessing Elements\n",
        "Each element in a list has an index, starting from 0:"
      ],
      "metadata": {
        "id": "Hqf_SQwhOaTB"
      }
    },
    {
      "cell_type": "code",
      "source": [
        "print(numbers[0])  # Output: 10\n",
        "\n",
        "print(numbers[-1])  # Output: 40 (Last element using negative index)"
      ],
      "metadata": {
        "colab": {
          "base_uri": "https://localhost:8080/"
        },
        "id": "zN_lUQ4fOhAN",
        "outputId": "96573a7d-5f37-40b0-e80c-0f9cb1581902"
      },
      "execution_count": 9,
      "outputs": [
        {
          "output_type": "stream",
          "name": "stdout",
          "text": [
            "10\n",
            "40\n"
          ]
        }
      ]
    },
    {
      "cell_type": "markdown",
      "source": [
        "##Appending and Inserting Elements\n",
        "Append adds elements to the end."
      ],
      "metadata": {
        "id": "bZNvN6O1Onpa"
      }
    },
    {
      "cell_type": "code",
      "source": [
        "numbers.append(50)\n",
        "print(numbers)"
      ],
      "metadata": {
        "colab": {
          "base_uri": "https://localhost:8080/"
        },
        "id": "xZ9iXtB8Or-b",
        "outputId": "71b625ab-1beb-482b-e90b-c7300be36b8e"
      },
      "execution_count": 10,
      "outputs": [
        {
          "output_type": "stream",
          "name": "stdout",
          "text": [
            "[10, 20, 30, 40, 50]\n"
          ]
        }
      ]
    },
    {
      "cell_type": "markdown",
      "source": [
        "Insert adds elements at a specific index."
      ],
      "metadata": {
        "id": "hXXuXYenOw6d"
      }
    },
    {
      "cell_type": "code",
      "source": [
        "numbers.insert(2, 15)  # Inserts 15 at index 2\n",
        "print(numbers)"
      ],
      "metadata": {
        "colab": {
          "base_uri": "https://localhost:8080/"
        },
        "id": "yG_HhpghOx49",
        "outputId": "c3ac2720-e90a-4a6d-8e32-b839a9122c21"
      },
      "execution_count": 11,
      "outputs": [
        {
          "output_type": "stream",
          "name": "stdout",
          "text": [
            "[10, 20, 15, 30, 40, 50]\n"
          ]
        }
      ]
    },
    {
      "cell_type": "markdown",
      "source": [
        "##Removing Elements\n",
        "pop() removes the last element."
      ],
      "metadata": {
        "id": "WR1oRQ5WO48j"
      }
    },
    {
      "cell_type": "code",
      "source": [
        "numbers.pop()"
      ],
      "metadata": {
        "colab": {
          "base_uri": "https://localhost:8080/"
        },
        "id": "xVfXyKP3O6Sj",
        "outputId": "a0eb9317-0baf-4451-d070-c33d50c19f6d"
      },
      "execution_count": 12,
      "outputs": [
        {
          "output_type": "execute_result",
          "data": {
            "text/plain": [
              "50"
            ]
          },
          "metadata": {},
          "execution_count": 12
        }
      ]
    },
    {
      "cell_type": "markdown",
      "source": [
        "##Checking List Mutability\n",
        "Lists are mutable, meaning elements can be modified after creation."
      ],
      "metadata": {
        "id": "_NvcNiIMO-dM"
      }
    },
    {
      "cell_type": "code",
      "source": [
        "numbers[0] = 99  # Modifying the first element\n",
        "print(numbers)"
      ],
      "metadata": {
        "colab": {
          "base_uri": "https://localhost:8080/"
        },
        "id": "lwMVChQNO_uF",
        "outputId": "d35dbecf-3103-4c40-e777-a9d242ad4fee"
      },
      "execution_count": 14,
      "outputs": [
        {
          "output_type": "stream",
          "name": "stdout",
          "text": [
            "[99, 20, 15, 30, 40]\n"
          ]
        }
      ]
    },
    {
      "cell_type": "markdown",
      "source": [
        "---\n",
        "3. Strings in Python\n",
        "A string is a sequence of characters enclosed in quotes.\n",
        "\n",
        "##String Concatenation"
      ],
      "metadata": {
        "id": "Zy_HXUbiPKqk"
      }
    },
    {
      "cell_type": "code",
      "source": [
        "first_name = \"John\"\n",
        "\n",
        "last_name = \"Doe\"\n",
        "\n",
        "full_name = first_name + \" \" + last_name  # Output: John Doe\n",
        "\n",
        "print(full_name)"
      ],
      "metadata": {
        "colab": {
          "base_uri": "https://localhost:8080/"
        },
        "id": "lzFUKfQKPPW-",
        "outputId": "9269514b-579f-4ba3-b9c9-19cae8fa3484"
      },
      "execution_count": 16,
      "outputs": [
        {
          "output_type": "stream",
          "name": "stdout",
          "text": [
            "John Doe\n"
          ]
        }
      ]
    },
    {
      "cell_type": "markdown",
      "source": [
        "##String Repetition"
      ],
      "metadata": {
        "id": "sPqDmzCJPWwJ"
      }
    },
    {
      "cell_type": "code",
      "source": [
        "print(\"ha\" * 3)  # Output: hahaha"
      ],
      "metadata": {
        "colab": {
          "base_uri": "https://localhost:8080/"
        },
        "id": "KXh5KU7VPYcK",
        "outputId": "ec7eec37-efd2-44d1-daaa-b7b12fd8b35e"
      },
      "execution_count": 17,
      "outputs": [
        {
          "output_type": "stream",
          "name": "stdout",
          "text": [
            "hahaha\n"
          ]
        }
      ]
    },
    {
      "cell_type": "markdown",
      "source": [
        "##Accessing Characters in a String"
      ],
      "metadata": {
        "id": "P-JHov1_PcI0"
      }
    },
    {
      "cell_type": "code",
      "source": [
        "greeting = \"Hello\"\n",
        "\n",
        "print(greeting[0])  # Output: H\n",
        "\n",
        "print(greeting[1:5])  # Output: ello (Slicing)"
      ],
      "metadata": {
        "colab": {
          "base_uri": "https://localhost:8080/"
        },
        "id": "Yjw9-E2BPdUl",
        "outputId": "d8284069-cf7a-49a6-f545-3b0c7e22048e"
      },
      "execution_count": 18,
      "outputs": [
        {
          "output_type": "stream",
          "name": "stdout",
          "text": [
            "H\n",
            "ello\n"
          ]
        }
      ]
    },
    {
      "cell_type": "markdown",
      "source": [
        "**Using f-strings (Best Practice)**"
      ],
      "metadata": {
        "id": "D4QMw73sPhAg"
      }
    },
    {
      "cell_type": "code",
      "source": [
        "age = 25\n",
        "\n",
        "print(f\"My age is {age}\")  # Output: My age is 25"
      ],
      "metadata": {
        "colab": {
          "base_uri": "https://localhost:8080/"
        },
        "id": "g02K316OPjGo",
        "outputId": "8a16a096-9a27-47e4-f31a-1c2ee571f310"
      },
      "execution_count": 19,
      "outputs": [
        {
          "output_type": "stream",
          "name": "stdout",
          "text": [
            "My age is 25\n"
          ]
        }
      ]
    },
    {
      "cell_type": "markdown",
      "source": [
        "---\n",
        "4. Tuples in Python\n",
        "A tuple is similar to a list but immutable (cannot be modified after creation).\n",
        "\n",
        "##Creating Tuples"
      ],
      "metadata": {
        "id": "EIwmzR_TPlYC"
      }
    },
    {
      "cell_type": "code",
      "source": [
        "person_tuple = (\"Bob\", 30, \"Engineer\")\n",
        "print(person_tuple)"
      ],
      "metadata": {
        "colab": {
          "base_uri": "https://localhost:8080/"
        },
        "id": "-GYcxl4_Pt9W",
        "outputId": "0778cb56-5d51-4cc7-d459-07edcd50cd9a"
      },
      "execution_count": 20,
      "outputs": [
        {
          "output_type": "stream",
          "name": "stdout",
          "text": [
            "('Bob', 30, 'Engineer')\n"
          ]
        }
      ]
    },
    {
      "cell_type": "markdown",
      "source": [
        "##Accessing Elements"
      ],
      "metadata": {
        "id": "1EQMLSEGP-Lf"
      }
    },
    {
      "cell_type": "code",
      "source": [
        "print(person_tuple[0])  # Output: Bob\n",
        "\n",
        "print(person_tuple[1:])  # Output: (30, 'Engineer')"
      ],
      "metadata": {
        "colab": {
          "base_uri": "https://localhost:8080/"
        },
        "id": "gaOjVf-TP_-p",
        "outputId": "0cfc8275-d03f-4274-9b58-f8d46bdc9c3c"
      },
      "execution_count": 21,
      "outputs": [
        {
          "output_type": "stream",
          "name": "stdout",
          "text": [
            "Bob\n",
            "(30, 'Engineer')\n"
          ]
        }
      ]
    },
    {
      "cell_type": "markdown",
      "source": [
        "##Tuple Immutability\n",
        "Tuples do not support item assignment."
      ],
      "metadata": {
        "id": "668gXoimQDPE"
      }
    },
    {
      "cell_type": "code",
      "source": [
        "person_tuple[1] = 35  # This will raise an error"
      ],
      "metadata": {
        "colab": {
          "base_uri": "https://localhost:8080/",
          "height": 148
        },
        "id": "HGcUpiptQG21",
        "outputId": "18c17c3d-0b6d-4205-d929-871c077b8592"
      },
      "execution_count": 22,
      "outputs": [
        {
          "output_type": "error",
          "ename": "TypeError",
          "evalue": "'tuple' object does not support item assignment",
          "traceback": [
            "\u001b[0;31m---------------------------------------------------------------------------\u001b[0m",
            "\u001b[0;31mTypeError\u001b[0m                                 Traceback (most recent call last)",
            "\u001b[0;32m/tmp/ipython-input-1980846570.py\u001b[0m in \u001b[0;36m<cell line: 0>\u001b[0;34m()\u001b[0m\n\u001b[0;32m----> 1\u001b[0;31m \u001b[0mperson_tuple\u001b[0m\u001b[0;34m[\u001b[0m\u001b[0;36m1\u001b[0m\u001b[0;34m]\u001b[0m \u001b[0;34m=\u001b[0m \u001b[0;36m35\u001b[0m  \u001b[0;31m# This will raise an error\u001b[0m\u001b[0;34m\u001b[0m\u001b[0;34m\u001b[0m\u001b[0m\n\u001b[0m",
            "\u001b[0;31mTypeError\u001b[0m: 'tuple' object does not support item assignment"
          ]
        }
      ]
    },
    {
      "cell_type": "markdown",
      "source": [
        "##Tuple Unpacking"
      ],
      "metadata": {
        "id": "MK4Z2yDXQKLw"
      }
    },
    {
      "cell_type": "code",
      "source": [
        "name, age, job = person_tuple\n",
        "\n",
        "print(name, age, job)  # Output: Bob 30 Engineer"
      ],
      "metadata": {
        "colab": {
          "base_uri": "https://localhost:8080/"
        },
        "id": "Mh_pZBL5QNR5",
        "outputId": "9b5e049c-b7a5-41a1-bf1a-72926e3ba0ab"
      },
      "execution_count": 23,
      "outputs": [
        {
          "output_type": "stream",
          "name": "stdout",
          "text": [
            "Bob 30 Engineer\n"
          ]
        }
      ]
    },
    {
      "cell_type": "markdown",
      "source": [
        "---\n",
        "###Setting Up a Virtual Environment in Anaconda\n",
        "To ensure a proper development environment, we use Anaconda and always work within a virtual environment. Follow these steps to set up your virtual environment:\n",
        "\n",
        "**Open Anaconda Prompt**\n",
        "Navigate to the Python Programming Directory:\n",
        "\n",
        "cd path_to_your_python_programming_folder\n",
        "\n",
        "\n",
        "\n",
        "**Create a New Virtual Environment**\n",
        "conda create -n farah python=3.10\n",
        "\n",
        "\n",
        "\n",
        "**Activate the Virtual Environment**\n",
        "conda activate farah\n",
        "\n",
        "\n",
        "\n",
        "**Open VS Code**\n",
        "code .\n",
        "\n",
        "\n",
        "\n",
        "Once VS Code is open, confirm that your Python Notebook is running within the correct environment:\n",
        "\n",
        "* Click on Select Kernel in the top-right corner of VS Code.\n",
        "* Select Python Environment and choose Farah.\n",
        "* Allow access if prompted for the first-time setup.\n",
        "* Best Practices for Using Collections in Python\n",
        "\n",
        "---\n",
        "To ensure efficient coding, follow these best practices:\n",
        "\n",
        "* Use lists for ordered collections where elements can be modified.\n",
        "* Use tuples for immutable data to protect against accidental changes.\n",
        "* Use sets for unique elements and fast membership checks.\n",
        "* Use dictionaries for key-value pairs when data retrieval is essential.\n",
        "\n",
        "All best practices have been noted in your provided notebooks. Make sure to revise them and practice implementing these concepts in multiple ways.\n",
        "\n",
        "---\n",
        "\n",
        "##Homework & Next Steps\n",
        "Practice the concepts covered in this lecture by implementing them in your system.\n",
        "Experiment with different use cases to strengthen your understanding.\n",
        "Review the best practices mentioned in the notebooks.\n",
        "Prepare for the next lecture by revising today's topics.\n",
        "With practice, these concepts will become second nature and will greatly benefit you in your programming career.\n",
        "\n",
        "---\n",
        "\n",
        "##Conclusion\n",
        "This concludes today's lecture. We have learned about Python collections, set up a virtual environment, and understood the importance of best practices in Python programming. Keep practicing, and I will see you in the next lecture.\n",
        "\n"
      ],
      "metadata": {
        "id": "rdOK07trQfTo"
      }
    }
  ]
}