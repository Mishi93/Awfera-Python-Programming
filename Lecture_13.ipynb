{
  "nbformat": 4,
  "nbformat_minor": 0,
  "metadata": {
    "colab": {
      "provenance": []
    },
    "kernelspec": {
      "name": "python3",
      "display_name": "Python 3"
    },
    "language_info": {
      "name": "python"
    }
  },
  "cells": [
    {
      "cell_type": "markdown",
      "source": [
        "#File Handling in Python\n",
        "\n",
        "**Introduction**\n",
        "\n",
        "This lecture focuses on file handling in Python, its importance, use cases, and how to manage different types of file operations such as reading, writing, appending, and working with JSON.\n",
        "\n",
        "**Introduction to File Handling**\n",
        "\n",
        "When writing programs in Python, often you need to store or retrieve data from external files. This is crucial for tasks like:\n",
        "\n",
        "Persisting data for future use\n",
        "Sharing data between programs\n",
        "Working with large datasets\n",
        "Logging application activity\n",
        "File handling is essential in programming, especially in areas like AI/ML where we process large datasets.\n",
        "\n",
        "**What is File Handling?**\n",
        "\n",
        "File handling refers to the process of interacting with external files using code. This includes:\n",
        "\n",
        "* Opening files\n",
        "* Reading content\n",
        "* Writing data\n",
        "* Appending new data\n",
        "* Closing files after use\n",
        "Python variables only store temporary data which is lost after execution. To persist data, files or databases are used.\n",
        "\n",
        "**Why Use Files?**\n",
        "\n",
        "* Persist data beyond program execution\n",
        "* Allow inter-program communication\n",
        "* Store logs of application operations\n",
        "* Process large external datasets (CSV, JSON, etc.)\n",
        "\n",
        "*Syntax for Opening Files*\n",
        "\n",
        "file = open(\"filename.txt\", \"mode\")\n",
        "\n",
        "**Modes:**\n",
        "\n",
        "1. r  Read (default mode)\n",
        "2. w  Write (creates new file or overwrites)\n",
        "3. a  Append (adds content at the end)\n",
        "4. r+ Read and write\n",
        "Always close the file after use:\n",
        "\n",
        "file.close()\n",
        "\n",
        "**File Modes and Their Behavior**\n",
        "\n",
        "*Read Mode (r)*\n",
        "\n",
        "* Opens existing file\n",
        "* Fails if file doesn’t exist\n",
        "* Use: file.read()\n",
        "\n",
        "*Write Mode (w)*\n",
        "\n",
        "* Overwrites existing content\n",
        "* Creates file if not present\n",
        "* Use carefully to avoid data loss\n",
        "\n",
        "*Append Mode (a)*\n",
        "\n",
        "* Adds new data at end of file\n",
        "* Preserves previous content\n",
        "\n",
        "*Read & Write Mode (r+)*\n",
        "\n",
        "* Reads and writes to same file\n",
        "* Allows both operations"
      ],
      "metadata": {
        "id": "8u8csqTh3noq"
      }
    },
    {
      "cell_type": "markdown",
      "source": [
        "**Hands-on Code Examples**\n",
        "1. Creating and Writing to File:"
      ],
      "metadata": {
        "id": "RolyOGk_4kEj"
      }
    },
    {
      "cell_type": "code",
      "execution_count": 2,
      "metadata": {
        "colab": {
          "base_uri": "https://localhost:8080/"
        },
        "id": "O9lEFyCN3Zss",
        "outputId": "0159308c-cf15-4374-ab40-53644e0b7bd3"
      },
      "outputs": [
        {
          "output_type": "stream",
          "name": "stdout",
          "text": [
            "File written successfully.\n"
          ]
        }
      ],
      "source": [
        "with open('example.txt', 'w') as file:\n",
        "\n",
        "  file.write('This is a new file created using write mode.')\n",
        "\n",
        "print('File written successfully.')"
      ]
    },
    {
      "cell_type": "markdown",
      "source": [
        "2. Reading File Content:"
      ],
      "metadata": {
        "id": "q__HYcJ0479L"
      }
    },
    {
      "cell_type": "code",
      "source": [
        "try:\n",
        "    with open('example.txt', 'r') as file:\n",
        "        content = file.read()\n",
        "    print('File Content:', content)\n",
        "except FileNotFoundError:\n",
        "    print('Error: The file does not exist!')\n"
      ],
      "metadata": {
        "colab": {
          "base_uri": "https://localhost:8080/"
        },
        "id": "ZcvRKNWV49TT",
        "outputId": "4a34e372-1aef-42dc-c872-37fbb1eb5a53"
      },
      "execution_count": 8,
      "outputs": [
        {
          "output_type": "stream",
          "name": "stdout",
          "text": [
            "File Content: This is a new file created using write mode.\n"
          ]
        }
      ]
    },
    {
      "cell_type": "markdown",
      "source": [
        "3. Appending New Line:"
      ],
      "metadata": {
        "id": "9atoPPz25Tez"
      }
    },
    {
      "cell_type": "code",
      "source": [
        "with open('example.txt', 'a') as file:\n",
        "\n",
        "  file.write('\\nThis is a new line added using append mode.')\n",
        "\n",
        "print('New content appended successfully.')"
      ],
      "metadata": {
        "colab": {
          "base_uri": "https://localhost:8080/"
        },
        "id": "EN9KK_9H5U2F",
        "outputId": "48261cd8-6fc9-48d5-ad0b-570ffa1188e1"
      },
      "execution_count": 10,
      "outputs": [
        {
          "output_type": "stream",
          "name": "stdout",
          "text": [
            "New content appended successfully.\n"
          ]
        }
      ]
    },
    {
      "cell_type": "markdown",
      "source": [
        "4.Read and Write Mode:"
      ],
      "metadata": {
        "id": "_36bejd45bdB"
      }
    },
    {
      "cell_type": "code",
      "source": [
        "with open('example.txt', 'r+') as file:\n",
        "    content = file.read()\n",
        "    print('Current Content:', content)\n",
        "\n",
        "    file.write('\\nAdding new content in read+write mode.')\n",
        "    print('Content updated successfully.')\n"
      ],
      "metadata": {
        "colab": {
          "base_uri": "https://localhost:8080/"
        },
        "id": "LHG3pQDX5e8x",
        "outputId": "389e3160-09a3-4ace-afcd-a2b334593344"
      },
      "execution_count": 13,
      "outputs": [
        {
          "output_type": "stream",
          "name": "stdout",
          "text": [
            "Current Content: This is a new file created using write mode.\n",
            "This is a new line added using append mode.\n",
            "Content updated successfully.\n"
          ]
        }
      ]
    },
    {
      "cell_type": "markdown",
      "source": [
        "**JSON in Python**\n",
        "\n",
        "JSON (JavaScript Object Notation) is a universal format for storing and exchanging data.\n",
        "Why JSON?\n",
        "\n",
        "1. Cross-language support\n",
        "2. Lightweight and structured\n",
        "3. Ideal for APIs and web applications\n",
        "\n",
        "*Working with JSON in Python*"
      ],
      "metadata": {
        "id": "5EegTfvq5w3F"
      }
    },
    {
      "cell_type": "code",
      "source": [
        "import json\n",
        "\n",
        "# Sample dictionary\n",
        "\n",
        "data = {'name': 'Haris', 'age': 25, 'city': 'Lahore'}\n",
        "\n",
        "# Writing JSON data to a file\n",
        "\n",
        "with open('data.json', 'w') as file:\n",
        "\n",
        "  json.dump(data, file)\n",
        "\n",
        "# Reading JSON data from a file\n",
        "\n",
        "with open('data.json', 'r') as file:\n",
        "\n",
        "  loaded_data = json.load(file)\n",
        "\n",
        "  print(loaded_data)"
      ],
      "metadata": {
        "colab": {
          "base_uri": "https://localhost:8080/"
        },
        "id": "4YrG-VXG56Pi",
        "outputId": "7df7739e-7de2-4207-a1ef-528d6aeaca36"
      },
      "execution_count": 15,
      "outputs": [
        {
          "output_type": "stream",
          "name": "stdout",
          "text": [
            "{'name': 'Haris', 'age': 25, 'city': 'Lahore'}\n"
          ]
        }
      ]
    },
    {
      "cell_type": "markdown",
      "source": [
        "**Exception Handling in File Operations**\n",
        "\n",
        "If a file doesn’t exist and you try to read it, an error occurs. Handle it using try-except:"
      ],
      "metadata": {
        "id": "n3vnQHS_6ImF"
      }
    },
    {
      "cell_type": "code",
      "source": [
        "try:\n",
        "    with open('non_existent_file.txt', 'r') as file:\n",
        "        content = file.read()\n",
        "        print(content)\n",
        "\n",
        "except FileNotFoundError:\n",
        "    print('Error: The file does not exist!')\n"
      ],
      "metadata": {
        "colab": {
          "base_uri": "https://localhost:8080/"
        },
        "id": "OBxY2tqP6LKy",
        "outputId": "90733320-e691-46e3-f15c-d6eead328a09"
      },
      "execution_count": 20,
      "outputs": [
        {
          "output_type": "stream",
          "name": "stdout",
          "text": [
            "Error: The file does not exist!\n"
          ]
        }
      ]
    },
    {
      "cell_type": "markdown",
      "source": [
        "Exception handling makes your program robust and user-friendly.\n",
        "\n",
        "**Additional Notes on File Handling Behavior**\n",
        "1. Write mode (w) creates file if it doesn't exist, otherwise overwrites it.\n",
        "2. Append mode (a) adds data to existing content.\n",
        "3. Read mode (r) fails if file is missing.\n",
        "4. Always close files after use to prevent resource locking.\n",
        "\n",
        "**Best Practices for File Handling**\n",
        "\n",
        "1. Always close files using file.close() or use with open() for auto-close\n",
        "2. Use exception handling for safe operation\n",
        "3. Be cautious with write mode (w) as it overwrites data\n",
        "4. Prefer JSON for structured data storage\n",
        "\n",
        "**Summary of Key Concepts**\n",
        "\n",
        "1. Use open() with appropriate mode (r, w, a, r+)\n",
        "2. Handle files using .read(), .write(), .close()\n",
        "3. JSON files are structured and cross-platform friendly\n",
        "4. Handle errors using try-except\n",
        "\n",
        "**Final Thoughts**\n",
        "\n",
        "File handling is a fundamental concept in Python that enables data storage, transfer, and logging. JSON further enhances Python's capabilities by enabling structured and scalable data exchange. Continue experimenting with .txt, .json, and .csv files to build real-world solutions.\n",
        "\n",
        "*Next Lecture:* Deeper dive into exception handling and working with CSV files."
      ],
      "metadata": {
        "id": "vwGwkXmF6hvQ"
      }
    }
  ]
}