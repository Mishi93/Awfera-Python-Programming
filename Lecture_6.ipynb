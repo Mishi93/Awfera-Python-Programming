{
  "nbformat": 4,
  "nbformat_minor": 0,
  "metadata": {
    "colab": {
      "provenance": []
    },
    "kernelspec": {
      "name": "python3",
      "display_name": "Python 3"
    },
    "language_info": {
      "name": "python"
    }
  },
  "cells": [
    {
      "cell_type": "markdown",
      "source": [
        "#Loops in Python\n",
        "In this lecture, we explore the concept of loops and control statements in Python. Loops are used to execute a block of code repeatedly, while control statements like continue, break, and else help manage the flow of loops. Additionally, we discuss how to work with lists and dictionaries using loops, and the importance of indexing and enumerate functions.\n",
        "\n",
        "\n",
        "\n",
        "**Main Points**\n",
        "\n",
        "1. Loops in Python\n",
        "\n",
        "Loops are used to perform repetitive tasks efficiently. Python provides two types of loops:\n",
        "\n",
        "* For Loop:\n",
        "Iterates over a sequence (e.g., list, tuple, dictionary).\n",
        "* While Loop: Executes a block of code as long as a condition is true.\n",
        "\n",
        "**For Loop**\n",
        "\n",
        "A for loop is a control flow statement used to execute a block of code a specific number of times. It's ideal when you know ahead of time how many times you want the loop to run.\n",
        "\n",
        "*For Loop Syntax*\n",
        "\n",
        "for item in sequence:\n",
        "\n",
        "    # Code to execute"
      ],
      "metadata": {
        "id": "puOOun1_EhuT"
      }
    },
    {
      "cell_type": "code",
      "execution_count": 1,
      "metadata": {
        "colab": {
          "base_uri": "https://localhost:8080/"
        },
        "id": "3rkOgLXrEWJO",
        "outputId": "5b9b7597-2d95-4ef0-ead2-9f6877cf1d45"
      },
      "outputs": [
        {
          "output_type": "stream",
          "name": "stdout",
          "text": [
            "1\n",
            "2\n",
            "3\n",
            "4\n",
            "5\n"
          ]
        }
      ],
      "source": [
        "numbers = [1, 2, 3, 4, 5]\n",
        "\n",
        "for num in numbers:\n",
        "\n",
        "    print(num)"
      ]
    },
    {
      "cell_type": "markdown",
      "source": [
        "2. Control Statements in Loops\n",
        "\n",
        "Control statements are used to manage the flow of loops.\n",
        "\n",
        "*Continue Statement*\n",
        "\n",
        "* Purpose: Skips the current iteration and moves to the next one.\n",
        "* Use Case: Ideal for bypassing specific conditions without stopping the loop."
      ],
      "metadata": {
        "id": "NXQplBAUFCdo"
      }
    },
    {
      "cell_type": "code",
      "source": [
        "for i in range(10):\n",
        "\n",
        "    if i == 3:\n",
        "\n",
        "        print(\"Skipping 3\")\n",
        "\n",
        "        continue\n",
        "\n",
        "    print(i)"
      ],
      "metadata": {
        "colab": {
          "base_uri": "https://localhost:8080/"
        },
        "id": "XkkjXO7hFJ6c",
        "outputId": "f57696cd-bb03-446f-c494-42b5deab9e6c"
      },
      "execution_count": 2,
      "outputs": [
        {
          "output_type": "stream",
          "name": "stdout",
          "text": [
            "0\n",
            "1\n",
            "2\n",
            "Skipping 3\n",
            "4\n",
            "5\n",
            "6\n",
            "7\n",
            "8\n",
            "9\n"
          ]
        }
      ]
    },
    {
      "cell_type": "markdown",
      "source": [
        " *Break Statement*\n",
        "\n",
        "* Purpose: Stops the loop entirely when a condition is met."
      ],
      "metadata": {
        "id": "C4-eQGnKFi3G"
      }
    },
    {
      "cell_type": "code",
      "source": [
        "for i in range(10):\n",
        "\n",
        "    if i == 8:\n",
        "\n",
        "        print(\"Breaking at 8\")\n",
        "\n",
        "        break\n",
        "\n",
        "    print(i)"
      ],
      "metadata": {
        "colab": {
          "base_uri": "https://localhost:8080/"
        },
        "id": "kMQF-FymFope",
        "outputId": "f6e4224b-ed50-43d1-8951-a97f6c47808c"
      },
      "execution_count": 3,
      "outputs": [
        {
          "output_type": "stream",
          "name": "stdout",
          "text": [
            "0\n",
            "1\n",
            "2\n",
            "3\n",
            "4\n",
            "5\n",
            "6\n",
            "7\n",
            "Breaking at 8\n"
          ]
        }
      ]
    },
    {
      "cell_type": "markdown",
      "source": [
        "*Else Statement*\n",
        "\n",
        "* Purpose: Executes when the loop ends naturally (i.e., without a break statement)."
      ],
      "metadata": {
        "id": "DKUfrhFRFvhL"
      }
    },
    {
      "cell_type": "code",
      "source": [
        "for i in range(5):\n",
        "\n",
        "    print(i)\n",
        "\n",
        "else:\n",
        "\n",
        "    print(\"Loop ended naturally\")"
      ],
      "metadata": {
        "colab": {
          "base_uri": "https://localhost:8080/"
        },
        "id": "bquaWrxKFy62",
        "outputId": "97f34419-4671-4094-e440-cab73ebdda91"
      },
      "execution_count": 4,
      "outputs": [
        {
          "output_type": "stream",
          "name": "stdout",
          "text": [
            "0\n",
            "1\n",
            "2\n",
            "3\n",
            "4\n",
            "Loop ended naturally\n"
          ]
        }
      ]
    },
    {
      "cell_type": "markdown",
      "source": [
        "**Working with Lists and Indexing**\n",
        "\n",
        "Lists are collections of items, and each item has an index (starting from 0).\n",
        "\n",
        "*Enumerate Function*\n",
        "\n",
        "* Purpose: Used to iterate over a list while accessing both the index and the item."
      ],
      "metadata": {
        "id": "RDVn7-nGF6C_"
      }
    },
    {
      "cell_type": "code",
      "source": [
        "fruits = [\"apple\", \"banana\", \"cherry\"]\n",
        "\n",
        "for index, fruit in enumerate(fruits):\n",
        "\n",
        "    print(f\"Index {index}: {fruit}\")"
      ],
      "metadata": {
        "colab": {
          "base_uri": "https://localhost:8080/"
        },
        "id": "fu0DnK-5GBib",
        "outputId": "118f8408-b51d-49ca-cf6a-ca8621a9350b"
      },
      "execution_count": 5,
      "outputs": [
        {
          "output_type": "stream",
          "name": "stdout",
          "text": [
            "Index 0: apple\n",
            "Index 1: banana\n",
            "Index 2: cherry\n"
          ]
        }
      ]
    },
    {
      "cell_type": "markdown",
      "source": [
        "* Manual Indexing: Without enumerate, you can manually track the index."
      ],
      "metadata": {
        "id": "Irs50tfEGEmV"
      }
    },
    {
      "cell_type": "code",
      "source": [
        "fruits = [\"apple\", \"banana\", \"cherry\"]\n",
        "\n",
        "index = 0\n",
        "\n",
        "for fruit in fruits:\n",
        "\n",
        "    print(f\"Index {index}: {fruit}\")\n",
        "\n",
        "    index += 1"
      ],
      "metadata": {
        "colab": {
          "base_uri": "https://localhost:8080/"
        },
        "id": "FnoQiBZOGGbh",
        "outputId": "8532e1f6-ef00-4edf-e026-9b5824b062d1"
      },
      "execution_count": 6,
      "outputs": [
        {
          "output_type": "stream",
          "name": "stdout",
          "text": [
            "Index 0: apple\n",
            "Index 1: banana\n",
            "Index 2: cherry\n"
          ]
        }
      ]
    },
    {
      "cell_type": "markdown",
      "source": [
        "**Iterating Over Dictionaries**\n",
        "\n",
        "Dictionaries store data in key-value pairs. You can iterate over keys, values, or both.\n",
        "\n",
        "*Iterating Over Keys*"
      ],
      "metadata": {
        "id": "GIfXsDTuGQWE"
      }
    },
    {
      "cell_type": "code",
      "source": [
        "person = {\"name\": \"John\", \"age\": 30, \"city\": \"New York\"}\n",
        "\n",
        "for key in person:\n",
        "\n",
        "    print(key)"
      ],
      "metadata": {
        "colab": {
          "base_uri": "https://localhost:8080/"
        },
        "id": "qr2ZlhotGUJk",
        "outputId": "69a4050f-a32e-4680-d823-94a9031fdb05"
      },
      "execution_count": 7,
      "outputs": [
        {
          "output_type": "stream",
          "name": "stdout",
          "text": [
            "name\n",
            "age\n",
            "city\n"
          ]
        }
      ]
    },
    {
      "cell_type": "markdown",
      "source": [
        "*Iterating Over Key-Value Pairs*"
      ],
      "metadata": {
        "id": "oRI2RDmEGX3P"
      }
    },
    {
      "cell_type": "code",
      "source": [
        "for key, value in person.items():\n",
        "\n",
        "    print(f\"{key}: {value}\")"
      ],
      "metadata": {
        "colab": {
          "base_uri": "https://localhost:8080/"
        },
        "id": "Imhul0PdGaJ5",
        "outputId": "c193c7e6-c025-4e66-f41d-a1d267c85af7"
      },
      "execution_count": 8,
      "outputs": [
        {
          "output_type": "stream",
          "name": "stdout",
          "text": [
            "name: John\n",
            "age: 30\n",
            "city: New York\n"
          ]
        }
      ]
    },
    {
      "cell_type": "markdown",
      "source": [
        "**Practical Example: Combining Loops and Control Statements**\n",
        "\n",
        "Here’s a practical example that combines loops and control statements:"
      ],
      "metadata": {
        "id": "EQI3E3ajGer6"
      }
    },
    {
      "cell_type": "code",
      "source": [
        "for i in range(10):\n",
        "\n",
        "    if i == 3:\n",
        "\n",
        "        print(\"Skipping 3\")\n",
        "\n",
        "        continue\n",
        "\n",
        "    if i == 8:\n",
        "\n",
        "        print(\"Breaking at 8\")\n",
        "\n",
        "        break\n",
        "\n",
        "    print(i)\n",
        "\n",
        "else:\n",
        "\n",
        "    print(\"Loop ended naturally\")"
      ],
      "metadata": {
        "colab": {
          "base_uri": "https://localhost:8080/"
        },
        "id": "mVli3VmLGiSt",
        "outputId": "5e755d4b-767d-4d1c-c742-22ac28cd37bf"
      },
      "execution_count": 9,
      "outputs": [
        {
          "output_type": "stream",
          "name": "stdout",
          "text": [
            "0\n",
            "1\n",
            "2\n",
            "Skipping 3\n",
            "4\n",
            "5\n",
            "6\n",
            "7\n",
            "Breaking at 8\n"
          ]
        }
      ]
    },
    {
      "cell_type": "markdown",
      "source": [
        "**While Loop**\n",
        "\n",
        "The while loop runs as long as the specified condition is true.\n",
        "\n",
        "*While loop syntax*\n",
        "\n",
        "while (condition) {\n",
        "    // Code to be executed repeatedly\n",
        "}"
      ],
      "metadata": {
        "id": "dEbIn_LHG8Il"
      }
    },
    {
      "cell_type": "code",
      "source": [
        "count=0\n",
        "while count<5:\n",
        "  print(count)\n",
        "  count+=1"
      ],
      "metadata": {
        "colab": {
          "base_uri": "https://localhost:8080/"
        },
        "id": "eGA199KEHczG",
        "outputId": "7577f03e-75dd-40f0-db6e-cb904733afd8"
      },
      "execution_count": 10,
      "outputs": [
        {
          "output_type": "stream",
          "name": "stdout",
          "text": [
            "0\n",
            "1\n",
            "2\n",
            "3\n",
            "4\n"
          ]
        }
      ]
    },
    {
      "cell_type": "markdown",
      "source": [
        "**Best Practices for Using Loops**\n",
        "\n",
        "* Avoid Infinite Loops: Ensure the loop condition will eventually become false.\n",
        "* Use enumerate for Indexing: Simplifies accessing both index and item.\n",
        "* Leverage Control Statements: Use continue, break, and else to manage loop flow effectively.\n",
        "* Practice with Different Scenarios: Experiment with loops in various conditions to build strong logic-building skills.\n",
        "\n",
        "\n",
        "**Final Thoughts**\n",
        "\n",
        "Loops and control statements are fundamental to Python programming, enabling developers to perform repetitive tasks efficiently and manage program flow effectively. By mastering for loops, while loops, and control statements like continue, break, and else, you can write cleaner and more efficient code. Additionally, understanding how to work with lists and dictionaries using loops is crucial for handling collections of data.\n",
        "\n",
        "\n",
        "\n",
        "**Key Takeaways:**\n",
        "\n",
        "* Use continue to skip specific iterations.\n",
        "* Use break to exit a loop early.\n",
        "* Use else to execute code after a loop ends naturally.\n",
        "* Leverage enumerate for easy access to indices and items in lists.\n",
        "* Practice loops with different scenarios to strengthen your programming skills."
      ],
      "metadata": {
        "id": "EU8F3oWSGmsU"
      }
    }
  ]
}