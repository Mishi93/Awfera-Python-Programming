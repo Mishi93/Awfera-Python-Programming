{
  "nbformat": 4,
  "nbformat_minor": 0,
  "metadata": {
    "colab": {
      "provenance": []
    },
    "kernelspec": {
      "name": "python3",
      "display_name": "Python 3"
    },
    "language_info": {
      "name": "python"
    }
  },
  "cells": [
    {
      "cell_type": "markdown",
      "source": [
        "#Local Vs. Global Variables\n",
        "\n",
        "In this lecture, we will cover the concept of Local vs. Global Variables. The aim is to explain the distinction between these two types of variables using practical examples and real-life analogies. If you have previously understood variables, functions, and operators, this lecture will be easier to grasp. If not, it's recommended to review earlier lectures to strengthen your understanding.\n",
        "\n",
        "---\n",
        "##Key Concepts\n",
        "Local Variables\n",
        "Local variables are those defined within a function. They are only accessible within the function and cannot be accessed outside of it. To help visualize this, consider the example of a classroom whiteboard:\n",
        "\n",
        "**Classroom Whiteboard:**\n",
        "\n",
        "The content written on it can only be seen by those within the classroom during the session. This represents a local variable, as its scope is limited to that particular function (or classroom)."
      ],
      "metadata": {
        "id": "dXGfLpPiDt7n"
      }
    },
    {
      "cell_type": "code",
      "execution_count": 1,
      "metadata": {
        "colab": {
          "base_uri": "https://localhost:8080/"
        },
        "id": "kZc7TD78Dqup",
        "outputId": "b3f52d7c-8832-4783-ef9c-92bfbc3da218"
      },
      "outputs": [
        {
          "output_type": "stream",
          "name": "stdout",
          "text": [
            "Inside function: x = 10 y = 5\n"
          ]
        }
      ],
      "source": [
        "def my_function():\n",
        "\n",
        "    y = 5  # Local variable inside the function\n",
        "\n",
        "    print(\"Inside function: x =\", x, \"y =\", y)\n",
        "\n",
        "\n",
        "\n",
        "x = 10  # Global variable outside the function\n",
        "\n",
        "my_function()  # Calling the function"
      ]
    },
    {
      "cell_type": "markdown",
      "source": [
        "In this case, the function can access the global variable x but y can only be accessed within my_function().\n",
        "\n",
        "---\n",
        "##Global Variables\n",
        "Global variables are defined outside of functions and are accessible throughout the entire program. In our analogy, the school's notice board can be seen by everyone in the school, not just those in a specific class. Similarly, a global variable can be accessed by any function in the program."
      ],
      "metadata": {
        "id": "XpHSJm5SEKmB"
      }
    },
    {
      "cell_type": "code",
      "source": [
        "x = 10  # Global variable\n",
        "\n",
        "def my_function():\n",
        "\n",
        "    y = 5  # Local variable\n",
        "\n",
        "    print(\"Inside function: x =\", x, \"y =\", y)\n",
        "\n",
        "\n",
        "\n",
        "my_function()  # Calling the function\n",
        "\n",
        "print(\"Outside function: x =\", x)"
      ],
      "metadata": {
        "colab": {
          "base_uri": "https://localhost:8080/"
        },
        "id": "-k6S_JH0ETWH",
        "outputId": "9e09ad25-7193-4887-dda9-6f1cefcf4a44"
      },
      "execution_count": 2,
      "outputs": [
        {
          "output_type": "stream",
          "name": "stdout",
          "text": [
            "Inside function: x = 10 y = 5\n",
            "Outside function: x = 10\n"
          ]
        }
      ]
    },
    {
      "cell_type": "markdown",
      "source": [
        "Here, the variable x is global, so it can be accessed both inside and outside the function.\n",
        "\n",
        "---\n",
        "##Practical Example: Local vs. Global Variables\n",
        "In the example below, we try to access a global variable inside a function, which works fine. However, attempting to access a local variable outside the function results in an error because local variables are confined to the function's scope."
      ],
      "metadata": {
        "id": "5LxOcNhzEdQS"
      }
    },
    {
      "cell_type": "code",
      "source": [
        "x = 10  # Global variable\n",
        "\n",
        "def my_function():\n",
        "\n",
        "    y = 5  # Local variable\n",
        "\n",
        "    print(\"Inside function: x =\", x, \"y =\", y)\n",
        "\n",
        "my_function()\n",
        "\n",
        "print(\"Outside function: x =\", x)\n",
        "\n",
        "\n",
        "\n",
        "# Trying to access the local variable 'y' outside the function will result in an error.\n",
        "\n",
        "# print(\"Outside function: y =\", y)  # This will give an error: name 'y' is not defined\n",
        "\n",
        ""
      ],
      "metadata": {
        "colab": {
          "base_uri": "https://localhost:8080/"
        },
        "id": "TB3WV5CfEgjt",
        "outputId": "cdb5152e-ac7d-4a32-972e-e2503935c977"
      },
      "execution_count": 3,
      "outputs": [
        {
          "output_type": "stream",
          "name": "stdout",
          "text": [
            "Inside function: x = 10 y = 5\n",
            "Outside function: x = 10\n"
          ]
        }
      ]
    },
    {
      "cell_type": "markdown",
      "source": [
        "---\n",
        "##Understanding Variable Scope\n",
        "\n",
        "###Local Variables:\n",
        "* Defined inside a function.\n",
        "* Only accessible within that function.\n",
        "\n",
        "###Global Variables:\n",
        "* Defined outside any function.\n",
        "* Accessible from any part of the code.\n",
        "\n",
        "---\n",
        "##Nested Functions and Enclosing Variables\n",
        "When one function is defined inside another, the variables of the inner function are considered local to that function. If a variable is defined in the outer function but is accessed by the inner function, it is called an enclosing variable."
      ],
      "metadata": {
        "id": "n7IlA49pEqE3"
      }
    },
    {
      "cell_type": "code",
      "source": [
        "x = 10  # Global variable\n",
        "\n",
        "def outer_function():\n",
        "\n",
        "    y = 5  # Enclosing variable\n",
        "\n",
        "    def inner_function():\n",
        "\n",
        "        z = 3  # Local variable\n",
        "\n",
        "        print(\"Inside inner function: x =\", x, \"y =\", y, \"z =\", z)\n",
        "\n",
        "    inner_function()\n",
        "\n",
        "outer_function()"
      ],
      "metadata": {
        "colab": {
          "base_uri": "https://localhost:8080/"
        },
        "id": "EI17lScEE63x",
        "outputId": "7cb5ee42-dac3-4c11-ea96-2ad7558603a5"
      },
      "execution_count": 4,
      "outputs": [
        {
          "output_type": "stream",
          "name": "stdout",
          "text": [
            "Inside inner function: x = 10 y = 5 z = 3\n"
          ]
        }
      ]
    },
    {
      "cell_type": "markdown",
      "source": [
        "---\n",
        "##Modifying Global Variables from Within Functions\n",
        "To modify a global variable inside a function, we need to use the global keyword. Without this keyword, Python treats the variable as a local one within the function."
      ],
      "metadata": {
        "id": "mSblxQpSFOXi"
      }
    },
    {
      "cell_type": "code",
      "source": [
        "counter = 0  # Global variable\n",
        "\n",
        "def increment_counter():\n",
        "\n",
        "    global counter\n",
        "\n",
        "    counter += 1  # Modifying global variable\n",
        "\n",
        "increment_counter()\n",
        "\n",
        "print(\"Counter value:\", counter)  # Output: Counter value: 1"
      ],
      "metadata": {
        "colab": {
          "base_uri": "https://localhost:8080/"
        },
        "id": "Z2Sgtev2FRRq",
        "outputId": "9ea180e0-a316-4efe-8a46-8aa1f35b70e5"
      },
      "execution_count": 5,
      "outputs": [
        {
          "output_type": "stream",
          "name": "stdout",
          "text": [
            "Counter value: 1\n"
          ]
        }
      ]
    },
    {
      "cell_type": "markdown",
      "source": [
        "Without the global keyword, the function would not be able to modify the global counter variable.\n",
        "\n",
        "---\n",
        "##Comparing Memory Locations: is vs ==\n",
        "In Python, we can check if two variables refer to the same object in memory using the is operator, and we can check if their values are equal using ==."
      ],
      "metadata": {
        "id": "09d-I1qBFXCt"
      }
    },
    {
      "cell_type": "code",
      "source": [
        "a = [1, 2, 3]\n",
        "\n",
        "b = [1, 2, 3]\n",
        "\n",
        "# Comparing values\n",
        "\n",
        "print(a == b)  # Output: True\n",
        "\n",
        "# Comparing memory locations\n",
        "\n",
        "print(a is b)  # Output: False"
      ],
      "metadata": {
        "colab": {
          "base_uri": "https://localhost:8080/"
        },
        "id": "OXmp54hWFa-x",
        "outputId": "ef1b4cac-bd6d-401e-85d9-2d11f28a2c65"
      },
      "execution_count": 6,
      "outputs": [
        {
          "output_type": "stream",
          "name": "stdout",
          "text": [
            "True\n",
            "False\n"
          ]
        }
      ]
    },
    {
      "cell_type": "markdown",
      "source": [
        "Even though the lists a and b have the same values, they are stored at different memory locations. Therefore, a is b returns False.\n",
        "\n",
        "---\n",
        "##Conclusion\n",
        "In this lecture, we learned the distinctions between local and global variables, how Python handles variable scopes, and how we can modify global variables using the global keyword. Additionally, we explored nested functions, enclosing variables, and how to check for object equality and memory location using == and is operators.\n",
        "\n",
        "---\n",
        "##Final Thoughts:\n",
        "It's crucial to understand the difference between local and global variables, especially when dealing with larger projects where variable scope plays an important role in managing and maintaining code. Practice these concepts by experimenting with different types of variables and functions.\n",
        "\n",
        "Next, make sure to review the provided examples and ensure that you understand how variables interact within different scopes. This foundational knowledge will help you better grasp more advanced topics in Python."
      ],
      "metadata": {
        "id": "y7I2oUCYFaN4"
      }
    }
  ]
}