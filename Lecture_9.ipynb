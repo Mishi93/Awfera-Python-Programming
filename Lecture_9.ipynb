{
  "nbformat": 4,
  "nbformat_minor": 0,
  "metadata": {
    "colab": {
      "provenance": []
    },
    "kernelspec": {
      "name": "python3",
      "display_name": "Python 3"
    },
    "language_info": {
      "name": "python"
    }
  },
  "cells": [
    {
      "cell_type": "markdown",
      "source": [
        "# User Defined Functions in Python\n",
        "\n",
        "In Python, functions are blocks of code designed to perform specific tasks. These functions can either be **built-in** or **user-defined**.  \n",
        "In this lecture, we will primarily focus on **user-defined functions**, explaining their structure, purpose, and how to implement them effectively.\n",
        "\n",
        "## Key Concepts of User-Defined Functions\n",
        "\n",
        "---\n",
        "\n",
        "### 1. Purpose of the Function\n",
        "\n",
        "The first step in defining a function is deciding its **purpose**.  \n",
        "A function must serve a specific task, which guides its structure and behavior.  \n",
        "Example: A function to add two numbers and return their sum.\n",
        "\n",
        "---\n",
        "\n",
        "### 2. Naming the Function\n",
        "\n",
        "Once the purpose is clear, give the function a **meaningful name**.  \n",
        "This name should reflect what the function does.\n",
        "\n",
        "**Example**:  \n",
        "A function to add two numbers can be named `add`.  \n",
        "*Best practice:* Use clear and descriptive names.\n",
        "\n",
        "---\n",
        "\n",
        "### 3. Defining Parameters\n",
        "\n",
        "Functions often take input values in the form of **parameters**.  \n",
        "These are defined inside parentheses after the function name.\n",
        "\n",
        "def add(num1, num2):\n",
        "\n",
        "---\n",
        "\n",
        "### 4. Function Logic\n",
        "Define the steps the function will execute — this could be math, string manipulation, etc.\n",
        "\n",
        "---\n",
        "\n",
        "### 5. Returning the Output\n",
        "Use the return keyword to return a result from a function:\n",
        "\n",
        "return num1 + num2\n"
      ],
      "metadata": {
        "id": "IhluInV0Af0Y"
      }
    },
    {
      "cell_type": "code",
      "source": [
        "\n",
        "def add(num1, num2):\n",
        "    print(\"Number 1:\", num1)\n",
        "    print(\"Number 2:\", num2)\n",
        "    addition = num1 + num2\n",
        "    return addition\n",
        "\n",
        "# Calling the function\n",
        "result = add(2, 4)\n",
        "print(\"Result:\", result)\n"
      ],
      "metadata": {
        "colab": {
          "base_uri": "https://localhost:8080/"
        },
        "id": "OtDOYmZuBWdE",
        "outputId": "fef0cc21-fc85-4d2a-ec27-80b67adf52a5"
      },
      "execution_count": 2,
      "outputs": [
        {
          "output_type": "stream",
          "name": "stdout",
          "text": [
            "Number 1: 2\n",
            "Number 2: 4\n",
            "Result: 6\n"
          ]
        }
      ]
    },
    {
      "cell_type": "markdown",
      "source": [
        "In this example, the function add is called with the numbers 2 and 4. The result, which is the sum of these numbers (6), will be displayed."
      ],
      "metadata": {
        "id": "8BBBM7mGBmuL"
      }
    },
    {
      "cell_type": "markdown",
      "source": [
        "## Types of Function Parameters\n",
        "\n",
        "---\n",
        "\n",
        "### 1. Default Arguments\n",
        "\n",
        "You can define default values for parameters. If no value is passed, the default is used."
      ],
      "metadata": {
        "id": "8dVrVY5BBn_k"
      }
    },
    {
      "cell_type": "code",
      "source": [
        "def greet(name=\"John\"):\n",
        "    print(f\"Hello {name}\")\n",
        "greet()         # Output: Hello John\n",
        "greet(\"Alice\")  # Output: Hello Alice\n"
      ],
      "metadata": {
        "colab": {
          "base_uri": "https://localhost:8080/"
        },
        "id": "pEHxMpo2Ct4n",
        "outputId": "88d15f76-956c-4f93-c165-ac3898ee4de0"
      },
      "execution_count": 6,
      "outputs": [
        {
          "output_type": "stream",
          "name": "stdout",
          "text": [
            "Hello John\n",
            "Hello Alice\n"
          ]
        }
      ]
    },
    {
      "cell_type": "markdown",
      "source": [
        "---\n",
        "\n",
        "### 2. Keyword Arguments\n",
        "Call arguments using parameter names for clarity and order flexibility.\n",
        "\n"
      ],
      "metadata": {
        "id": "xAtVCZDQCLXT"
      }
    },
    {
      "cell_type": "code",
      "source": [
        "def greet(first_name, last_name):\n",
        "    print(f\"Hello {first_name} {last_name}\")\n",
        "greet(first_name=\"John\", last_name=\"Doe\")\n"
      ],
      "metadata": {
        "colab": {
          "base_uri": "https://localhost:8080/"
        },
        "id": "kZ1asBvbCqHe",
        "outputId": "7f48bbf3-9473-48b7-9ded-c325e4496103"
      },
      "execution_count": 4,
      "outputs": [
        {
          "output_type": "stream",
          "name": "stdout",
          "text": [
            "Hello John Doe\n"
          ]
        }
      ]
    },
    {
      "cell_type": "markdown",
      "source": [
        "----\n",
        "\n",
        "### 3. Variable Length Arguments\n",
        "Use *args to pass a variable number of arguments, stored as a tuple.\n"
      ],
      "metadata": {
        "id": "5E6MYWs4CXoF"
      }
    },
    {
      "cell_type": "code",
      "source": [
        "def greet(*names):\n",
        "    for name in names:\n",
        "        print(f\"Hello {name}\")\n",
        "greet(\"John\", \"Alice\", \"Bob\")"
      ],
      "metadata": {
        "colab": {
          "base_uri": "https://localhost:8080/"
        },
        "id": "-uCt3J2CCm4l",
        "outputId": "5ee89dc5-8782-42e0-d85c-6663c489ea35"
      },
      "execution_count": 3,
      "outputs": [
        {
          "output_type": "stream",
          "name": "stdout",
          "text": [
            "Hello John\n",
            "Hello Alice\n",
            "Hello Bob\n"
          ]
        }
      ]
    },
    {
      "cell_type": "markdown",
      "source": [
        "\n",
        "---\n",
        "#### Markdown Cell: **Return vs Print in Functions**\n",
        "\n",
        "## Return vs Print in Functions\n",
        "\n",
        "---\n",
        "\n",
        "### `print` Statement:\n",
        "- Displays output to the console.\n",
        "- The result cannot be reused outside the function.\n",
        "\n",
        "### `return` Statement:\n",
        "- Sends a value back from the function.\n",
        "- Can be stored in a variable or reused.\n",
        "\n",
        "---\n",
        "\n",
        "### Example using `print`:\n",
        "\n",
        "\n"
      ],
      "metadata": {
        "id": "Um5mqFILDJus"
      }
    },
    {
      "cell_type": "code",
      "source": [
        "def greet():\n",
        "    print(\"Hello Python!\")\n",
        "greet()"
      ],
      "metadata": {
        "colab": {
          "base_uri": "https://localhost:8080/"
        },
        "id": "0twhuyYkEY5-",
        "outputId": "c59f412b-05ba-416f-c3b1-551c062da596"
      },
      "execution_count": 8,
      "outputs": [
        {
          "output_type": "stream",
          "name": "stdout",
          "text": [
            "Hello Python!\n"
          ]
        }
      ]
    },
    {
      "cell_type": "markdown",
      "source": [
        "----\n",
        "\n",
        "### Example using `return`:\n",
        "\n"
      ],
      "metadata": {
        "id": "zsyxwx7PDf_1"
      }
    },
    {
      "cell_type": "code",
      "source": [
        "def greet():\n",
        "    return \"Hello Python!\"\n",
        "\n",
        "message = greet()\n",
        "print(message)"
      ],
      "metadata": {
        "colab": {
          "base_uri": "https://localhost:8080/"
        },
        "id": "neRoSjWfD5R1",
        "outputId": "5050a078-3f8a-47cb-a341-7f9265d03a6c"
      },
      "execution_count": 7,
      "outputs": [
        {
          "output_type": "stream",
          "name": "stdout",
          "text": [
            "Hello Python!\n"
          ]
        }
      ]
    },
    {
      "cell_type": "markdown",
      "source": [
        "\n",
        "---\n",
        "\n",
        "#### **Additional Function Examples**\n",
        "\n",
        "## Additional Function Examples\n",
        "\n",
        "---\n",
        "\n",
        "### Example 1: Basic Function with Return\n"
      ],
      "metadata": {
        "id": "nSz__wRvEfVo"
      }
    },
    {
      "cell_type": "code",
      "source": [
        "\n",
        "def add(num1, num2):\n",
        "    return num1 + num2\n",
        "\n",
        "result = add(2, 4)\n",
        "print(\"Sum is:\", result)\n"
      ],
      "metadata": {
        "colab": {
          "base_uri": "https://localhost:8080/"
        },
        "id": "2WJ2vyqRElq8",
        "outputId": "b2e6203b-64a9-4f3b-e394-c577d2dc94ee"
      },
      "execution_count": 9,
      "outputs": [
        {
          "output_type": "stream",
          "name": "stdout",
          "text": [
            "Sum is: 6\n"
          ]
        }
      ]
    },
    {
      "cell_type": "markdown",
      "source": [
        "---\n",
        "### Example 2: Function without Parameters\n",
        "\n"
      ],
      "metadata": {
        "id": "9EqPGOosEpJz"
      }
    },
    {
      "cell_type": "code",
      "source": [
        "def greet():\n",
        "    print(\"Welcome to Python Programming!\")\n",
        "\n",
        "greet()"
      ],
      "metadata": {
        "colab": {
          "base_uri": "https://localhost:8080/"
        },
        "id": "13LCRNM6EvVD",
        "outputId": "464b4722-3ec5-45a8-a728-f068807447cd"
      },
      "execution_count": 10,
      "outputs": [
        {
          "output_type": "stream",
          "name": "stdout",
          "text": [
            "Welcome to Python Programming!\n"
          ]
        }
      ]
    },
    {
      "cell_type": "markdown",
      "source": [
        "----\n",
        "\n",
        "### Example 3: Function with Default Parameters"
      ],
      "metadata": {
        "id": "9jd_uXYkE1aD"
      }
    },
    {
      "cell_type": "code",
      "source": [
        "def full_name(first_name=\"John\", last_name=\"Doe\"):\n",
        "    print(f\"Full Name: {first_name} {last_name}\")\n",
        "\n",
        "full_name()            # Uses default values\n",
        "full_name(\"Jane\")      # Overrides first_name\n"
      ],
      "metadata": {
        "colab": {
          "base_uri": "https://localhost:8080/"
        },
        "id": "6H_Q8ktbE5nL",
        "outputId": "f3989e20-65d8-44e2-c6f7-bf8753f303f0"
      },
      "execution_count": 11,
      "outputs": [
        {
          "output_type": "stream",
          "name": "stdout",
          "text": [
            "Full Name: John Doe\n",
            "Full Name: Jane Doe\n"
          ]
        }
      ]
    },
    {
      "cell_type": "markdown",
      "source": [
        "\n",
        "---\n",
        "\n",
        "#### **Final Thoughts**\n",
        "\n",
        "- User-defined functions are a core part of Python programming.\n",
        "- They help in writing **clean**, **reusable**, and **modular** code.\n",
        "- You can define functions with different types of inputs and outputs — or none at all.\n",
        "- Practice is key to becoming proficient with functions.\n",
        "\n",
        "Try combining functions with loops, conditions, and other concepts to build more powerful Python programs.\n"
      ],
      "metadata": {
        "id": "bD_1URwpFAG5"
      }
    }
  ]
}