{
  "nbformat": 4,
  "nbformat_minor": 0,
  "metadata": {
    "colab": {
      "provenance": []
    },
    "kernelspec": {
      "name": "python3",
      "display_name": "Python 3"
    },
    "language_info": {
      "name": "python"
    }
  },
  "cells": [
    {
      "cell_type": "markdown",
      "source": [
        "#Methods in Object Oriented Programming\n",
        "##Introduction\n",
        "This lecture focuses on methods in Object-Oriented Programming (OOP) using Python. It builds on the concepts of classes and instances, explaining how methods allow interaction with and modification of objects created from blueprints (classes). The session covers the three primary types of methods — instance methods, class methods, and static methods — with practical examples and explanations.\n",
        "\n",
        "##Overview of Classes and Methods\n",
        "A class is a blueprint; instances (objects) are created based on this blueprint.\n",
        "Example: If you design a blueprint for a house, you can build many houses (instances) from it.\n",
        "Different instances may have different attributes (e.g., color).\n",
        "To modify or interact with these attributes, methods are used inside the class.\n",
        "###Instance Methods\n",
        "* Instance methods operate on individual instances of a class.\n",
        "* Defined with def inside a class, their first parameter is always self, referring to the instance."
      ],
      "metadata": {
        "id": "cTUPZEidjs2s"
      }
    },
    {
      "cell_type": "code",
      "execution_count": 1,
      "metadata": {
        "colab": {
          "base_uri": "https://localhost:8080/"
        },
        "id": "YgXJzp5hjdVT",
        "outputId": "7f912469-a766-4cbf-d630-345eab461f26"
      },
      "outputs": [
        {
          "output_type": "stream",
          "name": "stdout",
          "text": [
            "This house is painted blue\n"
          ]
        }
      ],
      "source": [
        "class House:\n",
        "\n",
        "    def __init__(self, color):\n",
        "\n",
        "        # 'self.color' stores the paint color for this specific house instance\n",
        "\n",
        "        self.color = color\n",
        "\n",
        "\n",
        "\n",
        "    def show_color(self):\n",
        "\n",
        "        # Prints the color of this house instance using 'self'\n",
        "\n",
        "        print(f\"This house is painted {self.color}\")\n",
        "\n",
        "\n",
        "\n",
        "# Create an instance of House with color \"blue\"\n",
        "\n",
        "my_house = House(\"blue\")\n",
        "\n",
        "\n",
        "\n",
        "# Call the method to display the house color\n",
        "\n",
        "my_house.show_color()"
      ]
    },
    {
      "cell_type": "markdown",
      "source": [
        "The keyword self keeps track of the specific instance and its attributes.\n",
        "Instance methods handle changes at the instance level.\n",
        "\n",
        "**Instance Methods = Methods Bound to an Instance**\n",
        "\n",
        "Instance methods are functions defined inside a class that operate on an instance of the class. They take `self` as their first parameter, which refers to the specific instance calling the method. These methods can access and modify the attributes of the instance and call other instance methods."
      ],
      "metadata": {
        "id": "piwib3F5kLMc"
      }
    },
    {
      "cell_type": "markdown",
      "source": [
        "###Class Methods\n",
        "* Class methods are linked to the class itself, not individual instances.\n",
        "* Decorated with @classmethod.\n",
        "* Their first parameter is cls, which refers to the class.\n",
        "* They interact with or manipulate class-level attributes.\n",
        "\n",
        "**Example:**\n",
        "* Define the class method with decorator @classmethod.\n",
        "* Call using ClassName.methodName() passing relevant parameters.\n",
        "\n",
        "**Example from notebook:**\n",
        "* A method calculates construction year or age using class attributes.\n",
        "* Instances can be created using class methods as alternate constructors.\n",
        "\n",
        "**Example of calling:**\n",
        "\n",
        " House.calculate_age(2025)\n",
        "\n",
        "You access attributes of the instance using the object:\n",
        " myHouse.age"
      ],
      "metadata": {
        "id": "h2YC-D1bkcLb"
      }
    },
    {
      "cell_type": "code",
      "source": [
        "class House:\n",
        "\n",
        "    def __init__(self, color, age):\n",
        "\n",
        "        self.color = color      # Instance attribute: specific color of this house\n",
        "\n",
        "        self.age = age          # Instance attribute: how old the house is\n",
        "\n",
        "\n",
        "\n",
        "    @classmethod\n",
        "\n",
        "    def from_construction_year(cls, color, construction_year):\n",
        "\n",
        "        # Class method to create a House object by calculating age from construction year\n",
        "\n",
        "        return cls(color, 2024 - construction_year)\n",
        "\n",
        "\n",
        "\n",
        "# Create a new house instance using the class method as a factory\n",
        "\n",
        "my_house = House.from_construction_year(\"white\", 2000)\n",
        "\n",
        "\n",
        "\n",
        "# Print the age of the house instance\n",
        "\n",
        "print(my_house.age)"
      ],
      "metadata": {
        "colab": {
          "base_uri": "https://localhost:8080/"
        },
        "id": "weTZtLazkmNp",
        "outputId": "79f45a63-741a-46be-ef93-399cbaa053ac"
      },
      "execution_count": 2,
      "outputs": [
        {
          "output_type": "stream",
          "name": "stdout",
          "text": [
            "24\n"
          ]
        }
      ]
    },
    {
      "cell_type": "markdown",
      "source": [
        "###Static Methods\n",
        "A static method is a method that belongs to a class but does not access or modify the class itself or any instance of the class. Unlike instance methods or class methods, static methods do not take self (the instance) or cls (the class) as their first parameter.\n",
        "\n",
        "Static methods behave like regular functions, but they are logically grouped inside a class because they perform operations relevant to the class’s purpose.\n",
        "\n",
        "They are typically used for utility tasks such as validations, calculations, or helper functions that don’t rely on the state of the class or its instances.\n",
        "\n",
        "Static methods are defined using the @staticmethod decorator."
      ],
      "metadata": {
        "id": "LEEdxlNYlDhu"
      }
    },
    {
      "cell_type": "code",
      "source": [
        "class House:\n",
        "\n",
        "    def __init__(self, color, area):\n",
        "\n",
        "        self.color = color\n",
        "\n",
        "        self.area = area  # Area in square meters\n",
        "\n",
        "\n",
        "\n",
        "    @staticmethod\n",
        "\n",
        "    def is_valid_area(area):\n",
        "\n",
        "        # Static method to validate if the area value is reasonable (positive)\n",
        "\n",
        "        return area > 0\n",
        "\n",
        "\n",
        "\n",
        "# Using the static method to validate area before creating a House instance\n",
        "\n",
        "print(House.is_valid_area(120))   # Expected output: True\n",
        "\n",
        "print(House.is_valid_area(-50))   # Expected output: False"
      ],
      "metadata": {
        "colab": {
          "base_uri": "https://localhost:8080/"
        },
        "id": "MF0Ucdp-lHgo",
        "outputId": "edc7480d-7008-4356-9230-861f1e1dc079"
      },
      "execution_count": 3,
      "outputs": [
        {
          "output_type": "stream",
          "name": "stdout",
          "text": [
            "True\n",
            "False\n"
          ]
        }
      ]
    },
    {
      "cell_type": "markdown",
      "source": [
        "* Static methods are independent utility functions inside a class.\n",
        "* Decorated with @staticmethod.\n",
        "* They do not take self or cls as parameters.\n",
        "* Used as helpers or validators related to the class but not dependent on class or instance data.\n",
        "\n",
        "**Example:**\n",
        "\n",
        "* A method isValidArea validates if a given area is positive or not.\n",
        "* Returns True if valid, False otherwise.\n",
        "* They contribute as building blocks to larger class functionalities.\n",
        "## Difference Between Functions and Methods\n",
        "Functions are defined outside classes using def.\n",
        "Methods are functions defined inside classes and categorized as instance, class, or static methods depending on their first parameter and usage.\n",
        "When a function is placed inside a class, it becomes a method.\n",
        "\n",
        "##Combined Example: MathTools Class\n",
        "**Class MathTools contains:**\n",
        "\n",
        "* A constant value PI.\n",
        "* A constructor taking radius as an attribute.\n",
        "* An instance method area that calculates area using radius.\n",
        "* A class method diameter calculating diameter using class method decorator.\n",
        "* A static method isValidArea that validates the input area.\n",
        "\n",
        "**Usage in sequence:**\n",
        "\n",
        "* Create an object and call instance method area.\n",
        "* Call class method diameter via class name.\n",
        "* Call static method isValidArea via class name.\n",
        "\n",
        "The notebook contains detailed examples and challenges for self-practice."
      ],
      "metadata": {
        "id": "cUeY1KRVlXwR"
      }
    },
    {
      "cell_type": "code",
      "source": [
        "class MathTool:\n",
        "    pi = 3.14159\n",
        "    def __init__(self, radius):\n",
        "        self.radius = radius\n",
        "    # Instance method to calculate the area of a circle\n",
        "    def area(self):\n",
        "        return MathTool.pi * self.radius * self.radius\n",
        "    # Class method to create a MathTool object from diameter\n",
        "    @classmethod\n",
        "    def from_diameter(cls, diameter):\n",
        "        return cls(diameter / 2)\n",
        "    # Static method to validate if a radius is positive\n",
        "    @staticmethod\n",
        "    def is_valid_radius(radius):\n",
        "        return radius > 0\n",
        "# Example usage:\n",
        "tool = MathTool(5)\n",
        "print(tool.area())  # Output: 78.53975\n",
        "tool_from_diameter = MathTool.from_diameter(10)\n",
        "print(tool_from_diameter.radius)  # Output: 5.0\n",
        "print(MathTool.is_valid_radius(-1))  # Output: False"
      ],
      "metadata": {
        "colab": {
          "base_uri": "https://localhost:8080/"
        },
        "id": "8Y9OrCW4l752",
        "outputId": "f6f6fdb1-c87b-4918-b49a-5171056f5a02"
      },
      "execution_count": 4,
      "outputs": [
        {
          "output_type": "stream",
          "name": "stdout",
          "text": [
            "78.53975\n",
            "5.0\n",
            "False\n"
          ]
        }
      ]
    },
    {
      "cell_type": "markdown",
      "source": [
        "##Summary\n",
        "Understanding methods in OOP is critical to manipulate objects effectively.\n",
        "Rigorous hands-on practice with examples, such as those in the provided notebook, will deepen comprehension.\n",
        "Studying code line-by-line using AI tools (ChatGPT, Claude, etc.) is encouraged for thorough understanding.\n",
        "A comparison table summarizing the differences and calling conventions of instance, class, and static methods is available in the notebook for easy reference.\n",
        "##Final Thoughts\n",
        "Methods are the backbone of working with classes and objects in Python. Understanding the difference between instance, class, and static methods helps you write clean, organized, and efficient code. Practice regularly to get comfortable with how each method works and when to use them. This will make building and managing your programs much easier and more powerful.\n",
        "\n",
        "This lecture thoroughly explained the concept and use of instance, class, and static methods in Python OOP, with hands-on examples to reinforce learning. Continued practice of these methods is essential for mastering OOP concepts"
      ],
      "metadata": {
        "id": "8FYkolhvmh0t"
      }
    }
  ]
}