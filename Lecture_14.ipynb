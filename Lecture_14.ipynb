{
  "nbformat": 4,
  "nbformat_minor": 0,
  "metadata": {
    "colab": {
      "provenance": []
    },
    "kernelspec": {
      "name": "python3",
      "display_name": "Python 3"
    },
    "language_info": {
      "name": "python"
    }
  },
  "cells": [
    {
      "cell_type": "markdown",
      "source": [
        "#Exception Handling in Python\n",
        "\n",
        "##What is Exception Handling?\n",
        "Gracefully handles unexpected issues (e.g., wrong input, missing files) without crashing the program.\n",
        "\n",
        "**Example:** ATM machine prompts errors like “Invalid Amount” instead of shutting down.\n",
        "![exception handling.jpg](data:image/jpeg;base64,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)\n",
        "---\n",
        "##Types of Errors\n",
        "1. Syntax Error\n",
        "Occurs before execution (e.g., missing brackets, wrong keywords).\n",
        "\n",
        "print(\"Hello\"   # ❌ Missing closing bracket\n",
        "\n",
        "2. Runtime Error\n",
        "Occurs during execution (e.g., divide by 0).\n",
        "\n",
        "num = 10 / 0  # ❌ DivisionByZeroError\n",
        "\n",
        "---\n",
        "##Try-Except Block\n",
        "Used to catch and handle exceptions."
      ],
      "metadata": {
        "id": "caShW7NS9K_K"
      }
    },
    {
      "cell_type": "code",
      "execution_count": 3,
      "metadata": {
        "colab": {
          "base_uri": "https://localhost:8080/"
        },
        "id": "c_SX12qN89fC",
        "outputId": "5793eb18-9080-4469-847d-1f8af2eb157a"
      },
      "outputs": [
        {
          "output_type": "stream",
          "name": "stdout",
          "text": [
            "Enter a number: 0\n",
            "Error! You cannot divide by zero.\n"
          ]
        }
      ],
      "source": [
        "try:\n",
        "\n",
        "# Prompt the user to enter a number\n",
        "\n",
        "  num = int(input(\"Enter a number: \"))\n",
        "\n",
        "# Attempt to divide 10 by the entered number\n",
        "\n",
        "  print(10 / num)\n",
        "\n",
        "except ZeroDivisionError:\n",
        "\n",
        "# Handle the case where the user enters zero\n",
        "\n",
        "  print(\"Error! You cannot divide by zero.\")"
      ]
    },
    {
      "cell_type": "markdown",
      "source": [
        "\n",
        "---\n",
        "##Handling Multiple Exceptions"
      ],
      "metadata": {
        "id": "aog-Crcg9y91"
      }
    },
    {
      "cell_type": "code",
      "source": [
        "try:\n",
        "\n",
        "# Prompt the user to enter the first number\n",
        "\n",
        "  num1 = int(input('Enter first number: '))\n",
        "\n",
        "# Prompt the user to enter the second number\n",
        "\n",
        "  num2 = int(input('Enter second number: '))\n",
        "\n",
        "# Attempt to divide the first number by the second number\n",
        "\n",
        "  result = num1 / num2\n",
        "\n",
        "# Print the result of the division\n",
        "\n",
        "  print('Result:', result)\n",
        "\n",
        "except ZeroDivisionError:\n",
        "\n",
        "# Handle the case where the second number is zero\n",
        "\n",
        "  print('Error: Cannot divide by zero!')\n",
        "\n",
        "except ValueError:\n",
        "\n",
        "# Handle the case where the input is not a valid integer\n",
        "\n",
        "  print('Error: Invalid input! Please enter numbers only.')"
      ],
      "metadata": {
        "colab": {
          "base_uri": "https://localhost:8080/"
        },
        "id": "HnhWnGLH94qC",
        "outputId": "974c3ff5-4ced-48fa-cb18-72e2ea1e9487"
      },
      "execution_count": 6,
      "outputs": [
        {
          "output_type": "stream",
          "name": "stdout",
          "text": [
            "Enter first number: 5\n",
            "Enter second number: 2.5\n",
            "Error: Invalid input! Please enter numbers only.\n"
          ]
        }
      ]
    },
    {
      "cell_type": "markdown",
      "source": [
        "---\n",
        "##Generic Exception Handling"
      ],
      "metadata": {
        "id": "XPKr8dh2-4NT"
      }
    },
    {
      "cell_type": "code",
      "source": [
        "try:\n",
        "\n",
        "# Code that may raise an exception\n",
        "\n",
        "  num = int(input(\"Enter a number: \"))\n",
        "\n",
        "  result = 10 / num # May raise ZeroDivisionError\n",
        "\n",
        "  print(\"Result:\", result)\n",
        "\n",
        "except Exception as e: # Catching all exceptions\n",
        "\n",
        "  print(\"An error occurred:\", e)"
      ],
      "metadata": {
        "colab": {
          "base_uri": "https://localhost:8080/"
        },
        "id": "LlnbQO1t-72s",
        "outputId": "c37d25df-d86b-4787-bde1-381b0f44ae36"
      },
      "execution_count": 9,
      "outputs": [
        {
          "output_type": "stream",
          "name": "stdout",
          "text": [
            "Enter a number: 5.7\n",
            "An error occurred: invalid literal for int() with base 10: '5.7'\n"
          ]
        }
      ]
    },
    {
      "cell_type": "markdown",
      "source": [
        "🔚 **Finally Block**\n",
        "\n",
        "Executes regardless of try/except result—used for cleanup like file closing."
      ],
      "metadata": {
        "id": "K9iK2U0_-7Jj"
      }
    },
    {
      "cell_type": "code",
      "source": [
        "try:\n",
        "\n",
        "# Attempt to open the file in read mode\n",
        "\n",
        "  file = open(\"example.txt\", \"r\")\n",
        "\n",
        "# Read the content of the file\n",
        "\n",
        "  content = file.read()\n",
        "\n",
        "# print content of the file\n",
        "\n",
        "  print(content)\n",
        "\n",
        "except FileNotFoundError:\n",
        "\n",
        "# Handle the case where the file does not exist\n",
        "\n",
        "  print(\"File not found!\")\n",
        "\n",
        "finally:\n",
        "\n",
        "# This block runs no matter what\n",
        "\n",
        "  print(\"Closing file...\")\n",
        "\n",
        "  file.close()"
      ],
      "metadata": {
        "colab": {
          "base_uri": "https://localhost:8080/"
        },
        "id": "IxihpnHi_PH8",
        "outputId": "6afa8313-7348-4972-ba5a-985224228d86"
      },
      "execution_count": 12,
      "outputs": [
        {
          "output_type": "stream",
          "name": "stdout",
          "text": [
            "Hi. My Name is Mehwish.\n",
            "Closing file...\n"
          ]
        }
      ]
    },
    {
      "cell_type": "markdown",
      "source": [
        "---\n",
        "##Custom Exceptions"
      ],
      "metadata": {
        "id": "-_HNGVr2AUIJ"
      }
    },
    {
      "cell_type": "code",
      "source": [
        "def withdraw(amount):\n",
        "\n",
        "# Check if the amount is negative\n",
        "\n",
        "  if amount < 0:\n",
        "\n",
        "# Raise a ValueError if the amount is negative\n",
        "\n",
        "    raise ValueError(\"Amount cannot be negative!\")\n",
        "\n",
        "# Print the withdrawal amount\n",
        "\n",
        "  print(f\"Withdrawing ${amount}\")\n",
        "\n",
        "try:\n",
        "\n",
        "# Attempt to withdraw a negative amount\n",
        "\n",
        "  withdraw(-100)\n",
        "\n",
        "except ValueError as e:\n",
        "\n",
        "# Handle the ValueError and print the error message\n",
        "\n",
        "  print(f\"Error: {e}\")"
      ],
      "metadata": {
        "colab": {
          "base_uri": "https://localhost:8080/"
        },
        "id": "vE9Ltub2AXvz",
        "outputId": "428808e0-55ea-4978-baf7-c903acf572db"
      },
      "execution_count": 19,
      "outputs": [
        {
          "output_type": "stream",
          "name": "stdout",
          "text": [
            "Error: Amount cannot be negative!\n"
          ]
        }
      ]
    },
    {
      "cell_type": "markdown",
      "source": [
        "---\n",
        "##Best Practices\n",
        "\n",
        "* Always close files (file.close() or with open())\n",
        "* Use try-except for error resilience\n",
        "* Use custom messages for better UX\n",
        "* Avoid silent failures (e.g., empty except: blocks)\n",
        "\n",
        "---\n",
        "##Final Thoughts\n",
        "\n",
        "File and JSON handling are essential for building scalable systems, and exception handling ensures the system remains user-friendly and error-resilient. Practice coding with try, except, finally, and experiment with real datasets and files.\n",
        "\n",
        "*Next Lecture:* Deep dive into working with CSV files and custom error classes."
      ],
      "metadata": {
        "id": "1wToXldQA_0q"
      }
    }
  ]
}