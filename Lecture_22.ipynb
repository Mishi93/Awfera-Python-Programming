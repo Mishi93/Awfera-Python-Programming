{
 "cells": [
  {
   "cell_type": "markdown",
   "id": "67c00172",
   "metadata": {},
   "source": [
    "# Optional and Required Parameters\n",
    "In this Lecture, we will explore the creation and execution of a FastAPI application, focusing on a text processing API. The API performs a series of tasks, including string manipulation and validation, and also returns the processed text along with its length. We will cover the process of making custom API endpoints, handling user input, validating data, and using FastAPI's built-in features such as automatic API documentation generation. The purpose of this application is to showcase FastAPI's efficiency and flexibility in handling complex operations.\n",
    "\n",
    "## Key Concepts\n",
    "### API Endpoints\n",
    " FastAPI allows the creation of custom endpoints that send requests to a server and return a response based on the user's input. These endpoints can be customized with the appropriate parameters and validation mechanisms.\n",
    "### GET vs POST Methods\n",
    "\n",
    "**GET Method:**\n",
    " Retrieves data from the server. This was used initially for basic display, like showing a \"Hello World\" message.\n",
    "\n",
    "**POST Method:**\n",
    " Sends data to the server for processing. In this case, the POST method processes the input string and returns the processed result along with its length.\n",
    " \n",
    "**Validation with Pydantic**\n",
    " FastAPI leverages Pydantic for validating input and ensuring data integrity. We define the input parameters, their types, and whether they are required or optional.\n",
    "\n",
    "\n"
   ]
  },
  {
   "cell_type": "code",
   "execution_count": 3,
   "id": "01be3c89",
   "metadata": {},
   "outputs": [
    {
     "name": "stdout",
     "output_type": "stream",
     "text": [
      "Collecting fastapi\n",
      "  Using cached fastapi-0.116.1-py3-none-any.whl.metadata (28 kB)\n",
      "Collecting uvicorn\n",
      "  Downloading uvicorn-0.35.0-py3-none-any.whl.metadata (6.5 kB)\n",
      "Collecting starlette<0.48.0,>=0.40.0 (from fastapi)\n",
      "  Downloading starlette-0.47.3-py3-none-any.whl.metadata (6.2 kB)\n",
      "Requirement already satisfied: pydantic!=1.8,!=1.8.1,!=2.0.0,!=2.0.1,!=2.1.0,<3.0.0,>=1.7.4 in c:\\users\\admin\\miniconda3\\lib\\site-packages (from fastapi) (2.10.3)\n",
      "Requirement already satisfied: typing-extensions>=4.8.0 in c:\\users\\admin\\miniconda3\\lib\\site-packages (from fastapi) (4.12.2)\n",
      "Requirement already satisfied: annotated-types>=0.6.0 in c:\\users\\admin\\miniconda3\\lib\\site-packages (from pydantic!=1.8,!=1.8.1,!=2.0.0,!=2.0.1,!=2.1.0,<3.0.0,>=1.7.4->fastapi) (0.6.0)\n",
      "Requirement already satisfied: pydantic-core==2.27.1 in c:\\users\\admin\\miniconda3\\lib\\site-packages (from pydantic!=1.8,!=1.8.1,!=2.0.0,!=2.0.1,!=2.1.0,<3.0.0,>=1.7.4->fastapi) (2.27.1)\n",
      "Requirement already satisfied: anyio<5,>=3.6.2 in c:\\users\\admin\\miniconda3\\lib\\site-packages (from starlette<0.48.0,>=0.40.0->fastapi) (4.10.0)\n",
      "Requirement already satisfied: idna>=2.8 in c:\\users\\admin\\miniconda3\\lib\\site-packages (from anyio<5,>=3.6.2->starlette<0.48.0,>=0.40.0->fastapi) (3.7)\n",
      "Requirement already satisfied: sniffio>=1.1 in c:\\users\\admin\\miniconda3\\lib\\site-packages (from anyio<5,>=3.6.2->starlette<0.48.0,>=0.40.0->fastapi) (1.3.1)\n",
      "Collecting click>=7.0 (from uvicorn)\n",
      "  Downloading click-8.2.1-py3-none-any.whl.metadata (2.5 kB)\n",
      "Requirement already satisfied: h11>=0.8 in c:\\users\\admin\\miniconda3\\lib\\site-packages (from uvicorn) (0.16.0)\n",
      "Requirement already satisfied: colorama in c:\\users\\admin\\miniconda3\\lib\\site-packages (from click>=7.0->uvicorn) (0.4.6)\n",
      "Using cached fastapi-0.116.1-py3-none-any.whl (95 kB)\n",
      "Downloading starlette-0.47.3-py3-none-any.whl (72 kB)\n",
      "Downloading uvicorn-0.35.0-py3-none-any.whl (66 kB)\n",
      "Downloading click-8.2.1-py3-none-any.whl (102 kB)\n",
      "Installing collected packages: click, uvicorn, starlette, fastapi\n",
      "\n",
      "   ---------------------------------------- 0/4 [click]\n",
      "   ---------- ----------------------------- 1/4 [uvicorn]\n",
      "   -------------------- ------------------- 2/4 [starlette]\n",
      "   -------------------- ------------------- 2/4 [starlette]\n",
      "   ------------------------------ --------- 3/4 [fastapi]\n",
      "   ---------------------------------------- 4/4 [fastapi]\n",
      "\n",
      "Successfully installed click-8.2.1 fastapi-0.116.1 starlette-0.47.3 uvicorn-0.35.0\n"
     ]
    }
   ],
   "source": [
    "!pip install fastapi uvicorn "
   ]
  },
  {
   "cell_type": "markdown",
   "id": "aea23fec",
   "metadata": {},
   "source": [
    "### Building the Text Processing API\n",
    "1. API Setup\n",
    "We start by importing the necessary packages, including FastAPI, HTTP exceptions, and Pydantic. After setting up the FastAPI app, we define the endpoints. For the text processing API, we use the @app.post decorator to define the POST method endpoint, where the user sends data for processing.\n",
    "\n",
    "2. Text Processing Endpoint\n",
    "\n",
    "**Input Parameters:**\n",
    "\n",
    "*text (string):* The text to be processed. This parameter is required.\n",
    "\n",
    "*uppercase (boolean, optional):* If true, the text will be converted to uppercase.\n",
    "\n",
    "**Output Response:**\n",
    "\n",
    "*processedText:* The processed text (string).\n",
    "\n",
    "*textLength:* The length of the processed text (integer)."
   ]
  },
  {
   "cell_type": "code",
   "execution_count": 5,
   "id": "42b4f5ec",
   "metadata": {},
   "outputs": [
    {
     "name": "stdout",
     "output_type": "stream",
     "text": [
      "Code written to text_processing_api.py\n"
     ]
    }
   ],
   "source": [
    "code = \"\"\"\n",
    "from fastapi import FastAPI, HTTPException\n",
    "from pydantic import BaseModel\n",
    "\n",
    "app = FastAPI(\n",
    "    title=\"Text Processing API\",\n",
    "    description=\"An API that processes input text, including uppercase conversion and length calculation.\",\n",
    "    version=\"1.0.0\"\n",
    ")\n",
    "\n",
    "# Root route\n",
    "@app.get(\"/\")\n",
    "def read_root():\n",
    "    return {\"message\": \"Welcome to the Text Processing API! Visit /docs to try it out.\"}\n",
    "\n",
    "# Request model\n",
    "class TextInput(BaseModel):\n",
    "    text: str\n",
    "    uppercase: bool = False\n",
    "\n",
    "# Response model\n",
    "class TextOutput(BaseModel):\n",
    "    processedText: str\n",
    "    textLength: int\n",
    "\n",
    "# POST endpoint\n",
    "@app.post(\"/process-text\", response_model=TextOutput)\n",
    "def process_text(input_data: TextInput):\n",
    "    if not input_data.text.strip():\n",
    "        raise HTTPException(status_code=400, detail=\"Text input cannot be empty.\")\n",
    "    \n",
    "    processed = input_data.text.upper() if input_data.uppercase else input_data.text\n",
    "    return TextOutput(processedText=processed, textLength=len(processed))\n",
    "\"\"\"\n",
    "\n",
    "# Write to file\n",
    "with open(\"text_processing_api.py\", \"w\") as f:\n",
    "    f.write(code)\n",
    "\n",
    "print(\"Code written to text_processing_api.py\")\n"
   ]
  },
  {
   "cell_type": "markdown",
   "id": "57147fd1",
   "metadata": {},
   "source": [
    "On the terminal write:\n",
    "\n",
    "*uvicorn text_processing_api:app --reload* "
   ]
  },
  {
   "cell_type": "markdown",
   "id": "facd19ae",
   "metadata": {},
   "source": [
    "#### Validation:\n",
    " The text is validated to ensure it is not empty. If the user sends an empty string, an HTTP exception is raised with a 400 status code.\n",
    "3. Example Execution\n",
    "* Step 1: The user enters \"Pakistan\" as the text and false for the uppercase parameter.\n",
    "* Result: The API returns \"Pakistan\" as it is with a length of 8.\n",
    "* Step 2: The user enters \"I love my country\" as the text and true for the uppercase parameter.\n",
    "* Result: The API converts the text to uppercase: \"I LOVE MY COUNTRY\" with a length of 18.\n",
    "4. Response Handling\n",
    "The response includes the processed text and its length. If any issues arise (e.g., incorrect input type), the API responds with an appropriate error message, ensuring smooth user experience.\n",
    "\n",
    "### API Documentation (Swagger)\n",
    "FastAPI automatically generates detailed API documentation using Swagger. This includes:\n",
    "\n",
    "* API description, title, and version.\n",
    "* Available endpoints and their respective functions.\n",
    "* Input parameters and types.\n",
    "* Response format and possible errors.\n",
    "* The documentation is accessible through the /docs URL, allowing users to interact with the API through a user-friendly interface.\n",
    "\n",
    "### Error Handling\n",
    "FastAPI uses HTTP exceptions to manage errors effectively. For example:\n",
    "\n",
    "If the input text is empty, the API raises a **400 Bad Request error** with a clear message: “Text cannot be empty.”\n",
    "Validation errors, such as incorrect data types, are also handled through the exception mechanism.\n",
    "\n",
    "### Code Implementation Overview\n",
    "#### FastAPI Setup\n",
    " We import FastAPI and create the app instance, defining the title, description, and version.\n",
    "#### Pydantic Validation\n",
    " The input parameters are validated using the Pydantic BaseModel class. We define the text and uppercase parameters and specify their types and optional status.\n",
    "#### API Logic\n",
    " The processText function receives the input data, processes it (converts it to uppercase if specified), and returns the processed text along with its length.\n",
    "#### Error Handling\n",
    " The system validates the input and raises errors if the data does not meet the requirements.\n",
    "## Conclusion\n",
    "In this lecture, we have explored FastAPI in detail, including how to build a custom text processing API with validation. We used Pydantic for input validation, handled errors gracefully, and saw how to modify endpoints based on user input. The automatic API documentation generated by FastAPI (Swagger) greatly improves the development process and provides a clear interface for interacting with the API. Moving forward, we will implement more complex endpoints and build a full project to consolidate the knowledge gained in this series.\n",
    "\n",
    "We hope this practice-based approach helps in understanding FastAPI and implementing custom APIs in real-world scenarios. Stay tuned for the next lecture, where we will dive deeper into more complex endpoint handling and project-based applications.\n",
    "\n",
    "### Final Thoughts\n",
    "FastAPI is an excellent choice for creating efficient, easy-to-use, and scalable APIs.\n",
    "Leveraging automatic documentation and validation mechanisms can significantly reduce development time and increase reliability.\n",
    "The integration of Pydantic and HTTP exceptions provides powerful validation and error handling tools."
   ]
  }
 ],
 "metadata": {
  "kernelspec": {
   "display_name": "base",
   "language": "python",
   "name": "python3"
  },
  "language_info": {
   "codemirror_mode": {
    "name": "ipython",
    "version": 3
   },
   "file_extension": ".py",
   "mimetype": "text/x-python",
   "name": "python",
   "nbconvert_exporter": "python",
   "pygments_lexer": "ipython3",
   "version": "3.13.5"
  }
 },
 "nbformat": 4,
 "nbformat_minor": 5
}
