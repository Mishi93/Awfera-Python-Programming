{
 "cells": [
  {
   "cell_type": "markdown",
   "id": "51872789",
   "metadata": {},
   "source": [
    "# Google AI Studio API\n",
    "## Introduction\n",
    "This Lecture introduces the Google AI Studio platform, its Gemini models, and how to utilize their APIs in Python. It emphasizes the advanced functionalities available in AI APIs, best practices for understanding and debugging code, and encourages a self-learning mindset for working with evolving AI platforms.\n",
    "\n",
    "### Advanced Features in AI APIs\n",
    "* Multi-Turn Conversations and Chat Sessions\n",
    "* APIs allow creating chat sessions where the model retains context of previous messages.\n",
    "* This enables conversational agents to maintain memory of prior interactions.\n",
    "* Configurable parameters include:\n",
    "1. max output length\n",
    "2. top P\n",
    "3. top K\n",
    "4. temperature (controls creativity/randomness)\n",
    "\n",
    "### Flexibility and Customization\n",
    "\n",
    "APIs provide multiple parameters and functionalities for:\n",
    "* Experimentation with outputs.\n",
    "* Tweaking model behavior.\n",
    "* Creating different chat sessions.\n",
    "* Users must adapt API usage based on their specific needs and platform documentation.\n",
    "\n",
    "### Managing API Keys and Security\n",
    "* Demo keys shown in example notebooks will be removed before public release.\n",
    "* Users must add their own valid API keys to execute code successfully.\n",
    "* Keys are sensitive information and should be treated accordingly.\n",
    "\n",
    "### Google AI Studio Overview\n",
    "\n",
    "**What is Google AI Studio?**\n",
    "\n",
    "1. Centralized platform for Google’s AI services and models.\n",
    "2. Google names its models Gemini.\n",
    "\n",
    "**Capabilities include:**\n",
    "\n",
    "1. Text generation\n",
    "2. Conversational agents\n",
    "3. Content analysis and updates\n",
    "4. Multi-modal applications (handling different data types)\n",
    "\n",
    "**Setting Up Google Client in Python**\n",
    "\n",
    "Install Google generative AI package:"
   ]
  },
  {
   "cell_type": "code",
   "execution_count": 2,
   "id": "032ae8f9",
   "metadata": {},
   "outputs": [
    {
     "name": "stdout",
     "output_type": "stream",
     "text": [
      "Requirement already satisfied: google-genai in e:\\miniconda\\envs\\awfera\\lib\\site-packages (1.32.0)\n",
      "Requirement already satisfied: anyio<5.0.0,>=4.8.0 in e:\\miniconda\\envs\\awfera\\lib\\site-packages (from google-genai) (4.10.0)\n",
      "Requirement already satisfied: google-auth<3.0.0,>=2.14.1 in e:\\miniconda\\envs\\awfera\\lib\\site-packages (from google-genai) (2.40.3)\n",
      "Requirement already satisfied: httpx<1.0.0,>=0.28.1 in e:\\miniconda\\envs\\awfera\\lib\\site-packages (from google-genai) (0.28.1)\n",
      "Requirement already satisfied: pydantic<3.0.0,>=2.0.0 in e:\\miniconda\\envs\\awfera\\lib\\site-packages (from google-genai) (2.11.7)\n",
      "Requirement already satisfied: requests<3.0.0,>=2.28.1 in e:\\miniconda\\envs\\awfera\\lib\\site-packages (from google-genai) (2.32.4)\n",
      "Requirement already satisfied: tenacity<9.2.0,>=8.2.3 in e:\\miniconda\\envs\\awfera\\lib\\site-packages (from google-genai) (9.1.2)\n",
      "Requirement already satisfied: websockets<15.1.0,>=13.0.0 in e:\\miniconda\\envs\\awfera\\lib\\site-packages (from google-genai) (15.0.1)\n",
      "Requirement already satisfied: typing-extensions<5.0.0,>=4.11.0 in e:\\miniconda\\envs\\awfera\\lib\\site-packages (from google-genai) (4.14.1)\n",
      "Requirement already satisfied: exceptiongroup>=1.0.2 in e:\\miniconda\\envs\\awfera\\lib\\site-packages (from anyio<5.0.0,>=4.8.0->google-genai) (1.3.0)\n",
      "Requirement already satisfied: idna>=2.8 in e:\\miniconda\\envs\\awfera\\lib\\site-packages (from anyio<5.0.0,>=4.8.0->google-genai) (3.10)\n",
      "Requirement already satisfied: sniffio>=1.1 in e:\\miniconda\\envs\\awfera\\lib\\site-packages (from anyio<5.0.0,>=4.8.0->google-genai) (1.3.1)\n",
      "Requirement already satisfied: cachetools<6.0,>=2.0.0 in e:\\miniconda\\envs\\awfera\\lib\\site-packages (from google-auth<3.0.0,>=2.14.1->google-genai) (5.5.2)\n",
      "Requirement already satisfied: pyasn1-modules>=0.2.1 in e:\\miniconda\\envs\\awfera\\lib\\site-packages (from google-auth<3.0.0,>=2.14.1->google-genai) (0.4.2)\n",
      "Requirement already satisfied: rsa<5,>=3.1.4 in e:\\miniconda\\envs\\awfera\\lib\\site-packages (from google-auth<3.0.0,>=2.14.1->google-genai) (4.9.1)\n",
      "Requirement already satisfied: certifi in e:\\miniconda\\envs\\awfera\\lib\\site-packages (from httpx<1.0.0,>=0.28.1->google-genai) (2025.8.3)\n",
      "Requirement already satisfied: httpcore==1.* in e:\\miniconda\\envs\\awfera\\lib\\site-packages (from httpx<1.0.0,>=0.28.1->google-genai) (1.0.9)\n",
      "Requirement already satisfied: h11>=0.16 in e:\\miniconda\\envs\\awfera\\lib\\site-packages (from httpcore==1.*->httpx<1.0.0,>=0.28.1->google-genai) (0.16.0)\n",
      "Requirement already satisfied: annotated-types>=0.6.0 in e:\\miniconda\\envs\\awfera\\lib\\site-packages (from pydantic<3.0.0,>=2.0.0->google-genai) (0.7.0)\n",
      "Requirement already satisfied: pydantic-core==2.33.2 in e:\\miniconda\\envs\\awfera\\lib\\site-packages (from pydantic<3.0.0,>=2.0.0->google-genai) (2.33.2)\n",
      "Requirement already satisfied: typing-inspection>=0.4.0 in e:\\miniconda\\envs\\awfera\\lib\\site-packages (from pydantic<3.0.0,>=2.0.0->google-genai) (0.4.1)\n",
      "Requirement already satisfied: charset_normalizer<4,>=2 in e:\\miniconda\\envs\\awfera\\lib\\site-packages (from requests<3.0.0,>=2.28.1->google-genai) (3.4.3)\n",
      "Requirement already satisfied: urllib3<3,>=1.21.1 in e:\\miniconda\\envs\\awfera\\lib\\site-packages (from requests<3.0.0,>=2.28.1->google-genai) (2.5.0)\n",
      "Requirement already satisfied: pyasn1>=0.1.3 in e:\\miniconda\\envs\\awfera\\lib\\site-packages (from rsa<5,>=3.1.4->google-auth<3.0.0,>=2.14.1->google-genai) (0.6.1)\n"
     ]
    }
   ],
   "source": [
    "! pip install google-genai\n",
    "import os\n",
    "from dotenv import load_dotenv"
   ]
  },
  {
   "cell_type": "markdown",
   "id": "3a12d258",
   "metadata": {},
   "source": [
    "**Loading .env file**"
   ]
  },
  {
   "cell_type": "code",
   "execution_count": 3,
   "id": "3bb5590b",
   "metadata": {},
   "outputs": [
    {
     "name": "stdout",
     "output_type": "stream",
     "text": [
      "GROQ_KEY loaded successfully.\n",
      "GOOGLE_API_KEY loaded successfully.\n"
     ]
    }
   ],
   "source": [
    "# Load environment variables from the .env file\n",
    "\n",
    "load_dotenv()\n",
    "\n",
    " \n",
    "\n",
    "def get_api_key(key_name):\n",
    "\n",
    "    \"\"\"\n",
    "\n",
    "    Retrieve an API key from environment variables by its name.\n",
    "\n",
    " \n",
    "\n",
    "    Args:\n",
    "\n",
    "        key_name (str): The name of the environment variable.\n",
    "\n",
    " \n",
    "\n",
    "    Returns:\n",
    "\n",
    "        str or None: The API key if found, else None.\n",
    "\n",
    "    \"\"\"\n",
    "\n",
    "    try:\n",
    "\n",
    "        key = os.getenv(key_name)\n",
    "\n",
    "        if key:\n",
    "\n",
    "            print(f\"{key_name} loaded successfully.\")\n",
    "\n",
    "        else:\n",
    "\n",
    "            print(f\"{key_name} not found. Please check your .env file.\")\n",
    "\n",
    "        return key\n",
    "\n",
    "    except Exception as error:\n",
    "\n",
    "        print(f\"Something went wrong while loading {key_name}: {error}\")\n",
    "\n",
    "        return None\n",
    "    \n",
    "api_key = get_api_key(\"GROQ_KEY\")\n",
    "google_api_key = get_api_key(\"GOOGLE_API_KEY\")\n",
    "\n",
    " \n",
    "\n",
    "# You can add more keys below as needed:\n",
    "\n",
    "# another_api_key = get_api_key(\"ANOTHER_API_KEY\")\n",
    "   "
   ]
  },
  {
   "cell_type": "markdown",
   "id": "6f9ba463",
   "metadata": {},
   "source": [
    "### Using Google AI Studio APIs\n",
    "**Listing Available Models**\n",
    "1. Use genai.list_models() to retrieve all available models.\n",
    "2. Filter models with “Gemini” in their names to select the appropriate one.\n",
    "3. Validation of API keys occurs during client setup and model listing.\n",
    "4. Sending Requests to Google AI Studio"
   ]
  },
  {
   "cell_type": "code",
   "execution_count": 4,
   "id": "0190a8db",
   "metadata": {},
   "outputs": [
    {
     "name": "stdout",
     "output_type": "stream",
     "text": [
      "Available Gemini models:\n",
      "- models/gemini-1.5-pro-latest\n",
      "- models/gemini-1.5-pro-002\n",
      "- models/gemini-1.5-pro\n",
      "- models/gemini-1.5-flash-latest\n",
      "- models/gemini-1.5-flash\n",
      "- models/gemini-1.5-flash-002\n",
      "- models/gemini-1.5-flash-8b\n",
      "- models/gemini-1.5-flash-8b-001\n",
      "- models/gemini-1.5-flash-8b-latest\n",
      "- models/gemini-2.5-pro-preview-03-25\n",
      "- models/gemini-2.5-flash-preview-05-20\n",
      "- models/gemini-2.5-flash\n",
      "- models/gemini-2.5-flash-lite-preview-06-17\n",
      "- models/gemini-2.5-pro-preview-05-06\n",
      "- models/gemini-2.5-pro-preview-06-05\n",
      "- models/gemini-2.5-pro\n",
      "- models/gemini-2.0-flash-exp\n",
      "- models/gemini-2.0-flash\n",
      "- models/gemini-2.0-flash-001\n",
      "- models/gemini-2.0-flash-exp-image-generation\n",
      "- models/gemini-2.0-flash-lite-001\n",
      "- models/gemini-2.0-flash-lite\n",
      "- models/gemini-2.0-flash-preview-image-generation\n",
      "- models/gemini-2.0-flash-lite-preview-02-05\n",
      "- models/gemini-2.0-flash-lite-preview\n",
      "- models/gemini-2.0-pro-exp\n",
      "- models/gemini-2.0-pro-exp-02-05\n",
      "- models/gemini-exp-1206\n",
      "- models/gemini-2.0-flash-thinking-exp-01-21\n",
      "- models/gemini-2.0-flash-thinking-exp\n",
      "- models/gemini-2.0-flash-thinking-exp-1219\n",
      "- models/gemini-2.5-flash-preview-tts\n",
      "- models/gemini-2.5-pro-preview-tts\n",
      "- models/gemini-2.5-flash-lite\n",
      "- models/gemini-2.5-flash-image-preview\n",
      "- models/gemini-embedding-exp-03-07\n",
      "- models/gemini-embedding-exp\n",
      "- models/gemini-embedding-001\n",
      "- models/gemini-2.5-flash-preview-native-audio-dialog\n",
      "- models/gemini-2.5-flash-exp-native-audio-thinking-dialog\n",
      "- models/gemini-2.0-flash-live-001\n",
      "- models/gemini-live-2.5-flash-preview\n",
      "- models/gemini-2.5-flash-live-preview\n",
      "\n",
      "Google AI Studio client configured successfully!\n"
     ]
    }
   ],
   "source": [
    "# Import the Google Generative AI library\n",
    "from google import genai\n",
    "\n",
    "# Initialize the client with your API key\n",
    "client = genai.Client(api_key=google_api_key)\n",
    "\n",
    "try:\n",
    "    # List available models\n",
    "    models = client.models.list()\n",
    "\n",
    "    # Filter models that contain 'gemini' in their name (case-insensitive)\n",
    "    gemini_models = [model.name for model in models if 'gemini' in model.name.lower()]\n",
    "\n",
    "    print(\"Available Gemini models:\")\n",
    "    for model in gemini_models:\n",
    "        print(f\"- {model}\")\n",
    "\n",
    "    print(\"\\nGoogle AI Studio client configured successfully!\")\n",
    "\n",
    "except Exception as e:\n",
    "    print(f\"Error configuring Google AI Studio client: {str(e)}\")\n"
   ]
  },
  {
   "cell_type": "markdown",
   "id": "a64b7d23",
   "metadata": {},
   "source": [
    "* Define a function getGeminiResponse(prompt: str) -> str.\n",
    "* Use Google’s documentation to understand function usage and parameters.\n",
    "* Make text generation requests by passing prompts.\n",
    "* Receive and process AI-generated responses."
   ]
  },
  {
   "cell_type": "markdown",
   "id": "6a8638ed",
   "metadata": {},
   "source": [
    "### Getting a response from the client"
   ]
  },
  {
   "cell_type": "code",
   "execution_count": 12,
   "id": "b654a6f2",
   "metadata": {},
   "outputs": [],
   "source": [
    "client = genai.Client()\n",
    "\n",
    "def getGeminiResponse(prompt: str) -> str:\n",
    "    \"\"\"Send a prompt to Gemini and return the model's response text.\"\"\"\n",
    "    try:\n",
    "        response = client.models.generate_content(\n",
    "            model=\"gemini-2.5-flash\",\n",
    "            contents=prompt\n",
    "        )\n",
    "        return response.text\n",
    "    except Exception as e:\n",
    "        return f\"Error: {str(e)}\""
   ]
  },
  {
   "cell_type": "markdown",
   "id": "5ce3a133",
   "metadata": {},
   "source": [
    "### Printing the response"
   ]
  },
  {
   "cell_type": "code",
   "execution_count": 13,
   "id": "7a49a972",
   "metadata": {},
   "outputs": [
    {
     "name": "stdout",
     "output_type": "stream",
     "text": [
      "GOOGLE_API_KEY loaded successfully.\n",
      "Response: **\"Your potential is limitless. Go make your mark.\"**\n"
     ]
    }
   ],
   "source": [
    "api_key = get_api_key(\"GOOGLE_API_KEY\")\n",
    "reply = getGeminiResponse(\"Write me a short motivational quote.\")\n",
    "print(\"Response:\", reply)"
   ]
  },
  {
   "cell_type": "markdown",
   "id": "e96275e2",
   "metadata": {},
   "source": [
    "### Importance of Reading Documentation\n",
    "Google’s API documentation is essential to understand:\n",
    "* API usage\n",
    "* Input/output specifications\n",
    "* Model-specific parameters and features\n",
    "* Developers should train themselves to consult official docs for any new platform or API.\n",
    "### Encouragement for Self-Learning\n",
    "* Self-learning is key: do not rely solely on external teaching.\n",
    "* Learn to independently read, understand, and implement APIs.\n",
    "* Confidence in Python enables integration of any new API or service.\n",
    "\n",
    "**Problem-solving mindset:** when encountering new platforms, explore their docs and adapt.\n",
    "\n",
    "### Highlighted Question in Data\n",
    "**Q: Why learn Google AI Studio APIs if OpenAI APIs are already known?** \n",
    "\n",
    "**A:** Different service providers have different implementations, code structures, and key management. Learning multiple APIs broadens understanding and prepares you to handle diverse platforms. Each API has unique features and documentation.\n",
    "\n",
    "### Final Thoughts\n",
    "This section marks the transition from learning about OpenAI APIs to exploring Google’s AI offerings. It stresses the need to adapt to varying API designs, utilize official documentation, and cultivate debugging and self-learning skills. With tools like Google AI Studio’s Gemini models, developers gain access to powerful multi-functional AI services, empowering them to build sophisticated applications."
   ]
  }
 ],
 "metadata": {
  "kernelspec": {
   "display_name": "Awfera",
   "language": "python",
   "name": "python3"
  },
  "language_info": {
   "codemirror_mode": {
    "name": "ipython",
    "version": 3
   },
   "file_extension": ".py",
   "mimetype": "text/x-python",
   "name": "python",
   "nbconvert_exporter": "python",
   "pygments_lexer": "ipython3",
   "version": "3.10.18"
  }
 },
 "nbformat": 4,
 "nbformat_minor": 5
}
