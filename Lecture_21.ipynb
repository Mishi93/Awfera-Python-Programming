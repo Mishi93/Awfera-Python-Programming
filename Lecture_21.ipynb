{
 "cells": [
  {
   "cell_type": "markdown",
   "metadata": {
    "id": "CSPUigMTm0qJ"
   },
   "source": [
    "# Fast API\n",
    "## Introduction\n",
    "FastAPI is a modern web framework designed for building APIs with Python. It is known for its high performance, ease of use, and automatic generation of API documentation. The framework is particularly beneficial for building custom API endpoints, and it has become popular in recent times due to its support for AI and generative applications.\n",
    "\n",
    "In this guide, we will explore the basics of FastAPI, how to set it up in your system, and how to create custom endpoints. We will also discuss how FastAPI simplifies the process of API development and how to execute FastAPI applications.\n",
    "\n",
    "### What is FastAPI?\n",
    "FastAPI is a Python web framework designed for building APIs. It is fast, easy to use, and supports asynchronous operations. FastAPI automatically generates interactive documentation for your APIs, making it easy to test and understand the endpoints.\n",
    "\n",
    "### Key Features of FastAPI:\n",
    "\n",
    "**Asynchronous support:**\n",
    "\n",
    "Handles multiple requests simultaneously.\n",
    "\n",
    "**Automatic API Documentation (Swagger):**\n",
    "\n",
    " FastAPI generates interactive API documentation automatically, making it easy to understand and use.\n",
    "\n",
    "**High performance:**\n",
    "Due to its asynchronous nature, FastAPI is highly performant compared to other Python web frameworks.\n",
    "\n",
    "### Why Use FastAPI?\n",
    "There are several reasons why FastAPI has become the preferred choice for API development:\n",
    "\n",
    "**Ease of Use:**\n",
    " FastAPI is beginner-friendly and provides a simple way to build APIs.\n",
    "**Integration with AI and Generative AI:**\n",
    "\n",
    " FastAPI facilitates the development of AI-powered applications, making it highly relevant for AI developers.\n",
    "**Scalability and Security:**\n",
    " FastAPI's scalability and security features make it ideal for both small and large-scale projects.\n",
    "\n",
    "FastAPI is suitable for projects ranging from basic web apps to complex machine learning models.\n",
    "\n",
    "### Basic Setup of FastAPI\n",
    "To get started with FastAPI, follow the steps below for setting up the environment and creating your first FastAPI application.\n",
    "\n",
    "**Step 1:**\n",
    " Install FastAPI and Uvicorn\n",
    "To use FastAPI, we need to install it along with Uvicorn, which is an ASGI server used to run FastAPI applications.\n",
    "\n"
   ]
  },
  {
   "cell_type": "code",
   "execution_count": 1,
   "metadata": {
    "colab": {
     "base_uri": "https://localhost:8080/"
    },
    "executionInfo": {
     "elapsed": 8272,
     "status": "ok",
     "timestamp": 1757055769412,
     "user": {
      "displayName": "Mehwish Younus",
      "userId": "01002275778764910011"
     },
     "user_tz": -300
    },
    "id": "icAmrPFFrOkA",
    "outputId": "693a942f-8993-4507-9cf8-ec19bc4e8a7b"
   },
   "outputs": [
    {
     "name": "stdout",
     "output_type": "stream",
     "text": [
      "Requirement already satisfied: fastapi in c:\\users\\faculty\\.conda\\envs\\awfera\\lib\\site-packages (0.116.1)\n",
      "Requirement already satisfied: uvicorn in c:\\users\\faculty\\.conda\\envs\\awfera\\lib\\site-packages (0.35.0)\n",
      "Requirement already satisfied: starlette<0.48.0,>=0.40.0 in c:\\users\\faculty\\.conda\\envs\\awfera\\lib\\site-packages (from fastapi) (0.47.3)\n",
      "Requirement already satisfied: pydantic!=1.8,!=1.8.1,!=2.0.0,!=2.0.1,!=2.1.0,<3.0.0,>=1.7.4 in c:\\users\\faculty\\.conda\\envs\\awfera\\lib\\site-packages (from fastapi) (2.11.7)\n",
      "Requirement already satisfied: typing-extensions>=4.8.0 in c:\\users\\faculty\\.conda\\envs\\awfera\\lib\\site-packages (from fastapi) (4.15.0)\n",
      "Requirement already satisfied: annotated-types>=0.6.0 in c:\\users\\faculty\\.conda\\envs\\awfera\\lib\\site-packages (from pydantic!=1.8,!=1.8.1,!=2.0.0,!=2.0.1,!=2.1.0,<3.0.0,>=1.7.4->fastapi) (0.7.0)\n",
      "Requirement already satisfied: pydantic-core==2.33.2 in c:\\users\\faculty\\.conda\\envs\\awfera\\lib\\site-packages (from pydantic!=1.8,!=1.8.1,!=2.0.0,!=2.0.1,!=2.1.0,<3.0.0,>=1.7.4->fastapi) (2.33.2)\n",
      "Requirement already satisfied: typing-inspection>=0.4.0 in c:\\users\\faculty\\.conda\\envs\\awfera\\lib\\site-packages (from pydantic!=1.8,!=1.8.1,!=2.0.0,!=2.0.1,!=2.1.0,<3.0.0,>=1.7.4->fastapi) (0.4.1)\n",
      "Requirement already satisfied: anyio<5,>=3.6.2 in c:\\users\\faculty\\.conda\\envs\\awfera\\lib\\site-packages (from starlette<0.48.0,>=0.40.0->fastapi) (4.10.0)\n",
      "Requirement already satisfied: exceptiongroup>=1.0.2 in c:\\users\\faculty\\.conda\\envs\\awfera\\lib\\site-packages (from anyio<5,>=3.6.2->starlette<0.48.0,>=0.40.0->fastapi) (1.3.0)\n",
      "Requirement already satisfied: idna>=2.8 in c:\\users\\faculty\\.conda\\envs\\awfera\\lib\\site-packages (from anyio<5,>=3.6.2->starlette<0.48.0,>=0.40.0->fastapi) (3.10)\n",
      "Requirement already satisfied: sniffio>=1.1 in c:\\users\\faculty\\.conda\\envs\\awfera\\lib\\site-packages (from anyio<5,>=3.6.2->starlette<0.48.0,>=0.40.0->fastapi) (1.3.1)\n",
      "Requirement already satisfied: click>=7.0 in c:\\users\\faculty\\.conda\\envs\\awfera\\lib\\site-packages (from uvicorn) (8.2.1)\n",
      "Requirement already satisfied: h11>=0.8 in c:\\users\\faculty\\.conda\\envs\\awfera\\lib\\site-packages (from uvicorn) (0.16.0)\n",
      "Requirement already satisfied: colorama in c:\\users\\faculty\\.conda\\envs\\awfera\\lib\\site-packages (from click>=7.0->uvicorn) (0.4.6)\n"
     ]
    }
   ],
   "source": [
    "! pip install fastapi uvicorn"
   ]
  },
  {
   "cell_type": "markdown",
   "metadata": {
    "id": "ecxC4j3xrPA3"
   },
   "source": [
    "**Step 2:**\n",
    "\n",
    "Create a FastAPI Application\n",
    "Once you have installed FastAPI, create a Python file (e.g., app.py). Here's how you can define a simple \"Hello World\" FastAPI app:"
   ]
  },
  {
   "cell_type": "code",
   "execution_count": 2,
   "metadata": {
    "colab": {
     "base_uri": "https://localhost:8080/"
    },
    "executionInfo": {
     "elapsed": 54,
     "status": "ok",
     "timestamp": 1757055939938,
     "user": {
      "displayName": "Mehwish Younus",
      "userId": "01002275778764910011"
     },
     "user_tz": -300
    },
    "id": "-zh4jLikrP02",
    "outputId": "bb58e4e7-7544-4bd5-df55-ffa3a4e2539d"
   },
   "outputs": [
    {
     "name": "stdout",
     "output_type": "stream",
     "text": [
      "Overwriting app.py\n"
     ]
    }
   ],
   "source": [
    "%%writefile app.py\n",
    "from fastapi import FastAPI\n",
    "\n",
    "app = FastAPI()\n",
    "\n",
    "@app.get(\"/\")\n",
    "def read_root():\n",
    "    return {\"message\": \"Hello from FastAPI in Colab!\"}\n",
    "\n",
    "@app.get(\"/hello/{name}\")\n",
    "def read_item(name: str):\n",
    "    return {\"message\": f\"Hello, {name}!\"}\n"
   ]
  },
  {
   "cell_type": "markdown",
   "metadata": {
    "id": "DInYvZYLn_bC"
   },
   "source": [
    "**Step 3: Run the FastAPI Application**\n",
    "\n",
    "To run the FastAPI application, use the Uvicorn server. You can do this by executing the following command in your terminal:\n",
    "\n",
    "uvicorn app:app --reload\n",
    "\n",
    "The --reload option ensures that the server automatically restarts whenever you make changes to the code.\n",
    "\n",
    "### Creating Custom API Endpoints\n",
    "\n",
    "FastAPI allows you to create custom API endpoints easily. Here's an example of creating a custom endpoint where the user can input their name, and the API will return a greeting message.\n",
    "\n",
    "  @app.get(\"/hello/{name}\")\n",
    "\n",
    "  def read_item(name: str):\n",
    "\n",
    "      return {\"message\": f\"Hello, {name}!\"}\n",
    "\n",
    "**Explanation:**\n",
    "\n",
    "@app.get(\"/hello/{name}\"): This defines the GET endpoint /hello/{name}.\n",
    "The name parameter is passed as part of the URL, and the function returns a greeting message.\n",
    "\n",
    "To test this endpoint, run the server and visit the URL in the browser: http://127.0.0.1:8000/hello/YourName.\n",
    "\n",
    "### FastAPI Documentation (Swagger)\n",
    "\n",
    "FastAPI automatically generates documentation for your API. This documentation is known as Swagger and provides a user-friendly interface to interact with your API.\n",
    "\n",
    "To access the documentation, simply add /docs to your FastAPI app's URL: http://127.0.0.1:8000/docs.\n",
    "FastAPI also provides an alternative interactive documentation at /redoc: http://127.0.0.1:8000/redoc.\n",
    "In the documentation, you'll find:\n",
    "\n",
    "1. The API's title, description, and version.\n",
    "2. A list of available endpoints.\n",
    "3. Options to test the endpoints interactively.\n",
    "\n",
    "### Running and Stopping FastAPI Applications\n",
    "Running the FastAPI Application\n",
    "To run the FastAPI application, use the following command:\n",
    "\n",
    "uvicorn app:app --reload\n",
    "\n",
    "### Stopping the FastAPI Application\n",
    "To stop the FastAPI server, press CTRL + C in the terminal where the server is running.\n",
    "\n",
    "## Conclusion\n",
    "In this guide, we covered the basics of FastAPI, including setting up the environment, creating custom API endpoints, and using FastAPI's automatic documentation. We also explored how to run and stop FastAPI applications.\n",
    "\n",
    "FastAPI is a powerful tool for building APIs and offers several advantages, such as ease of use, high performance, and automatic API documentation. As you become more familiar with FastAPI, you'll be able to create more complex endpoints and even develop applications for AI and machine learning.\n",
    "\n",
    "In future lectures, we will explore more advanced FastAPI topics and develop projects to apply everything we've learned.\n",
    "\n"
   ]
  }
 ],
 "metadata": {
  "colab": {
   "authorship_tag": "ABX9TyMndbpcyzsUGPmZCnYt5cY5",
   "provenance": []
  },
  "kernelspec": {
   "display_name": "awfera",
   "language": "python",
   "name": "python3"
  },
  "language_info": {
   "codemirror_mode": {
    "name": "ipython",
    "version": 3
   },
   "file_extension": ".py",
   "mimetype": "text/x-python",
   "name": "python",
   "nbconvert_exporter": "python",
   "pygments_lexer": "ipython3",
   "version": "3.10.18"
  }
 },
 "nbformat": 4,
 "nbformat_minor": 0
}
