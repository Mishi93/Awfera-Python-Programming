{
  "nbformat": 4,
  "nbformat_minor": 0,
  "metadata": {
    "colab": {
      "provenance": []
    },
    "kernelspec": {
      "name": "python3",
      "display_name": "Python 3"
    },
    "language_info": {
      "name": "python"
    }
  },
  "cells": [
    {
      "cell_type": "markdown",
      "source": [
        "#Decorators in Python\n",
        "**Introduction**\n",
        "\n",
        "A decorator is a function that modifies or enhances the behavior of another function without modifying its source code.\n",
        "In simple words Decorators are a powerful feature in Python that allows us to extend or modify the behavior of functions or methods without changing their actual code. They help in code reusability, readability, and can be applied to various tasks like logging, authentication, or timing functions.\n",
        "\n",
        "\n",
        "\n",
        "1. Key Features of Decorators:\n",
        "* Code Reusability: Decorators allow you to reuse the same function logic in multiple places without repeating the code.\n",
        "* Code Readability: They make the code cleaner by separating the core logic of a function and its enhancement logic (e.g., logging, authentication).\n",
        "* Use Cases: Can be used for logging, authentication, function timing, and more.\n",
        "\n",
        "\n",
        "2. Core Concepts:\n",
        "**Function as First-Class Citizen:**\n",
        "Functions can be used as variables, passed as arguments to other functions, and returned from functions.\n",
        "\n",
        "*Decorator Syntax:*\n",
        "* Define the Decorator Function:\n",
        "* Assigned to Variables: Functions can be assigned to variables like any other object\n",
        "* Passed as Arguments: Functions can be passed as arguments to other functions\n",
        "*Returned from Functions: Functions can be returned from other functions\n",
        "\n",
        "**How It Works**\n",
        "When a function is passed to a decorator, its behavior is extended without modifying the original function."
      ],
      "metadata": {
        "id": "3jM8SnLfpEbx"
      }
    },
    {
      "cell_type": "code",
      "execution_count": 2,
      "metadata": {
        "colab": {
          "base_uri": "https://localhost:8080/"
        },
        "id": "O8u4Ro3polxc",
        "outputId": "caa5bad7-0062-408d-d26e-45ebf559e85c"
      },
      "outputs": [
        {
          "output_type": "stream",
          "name": "stdout",
          "text": [
            "Hello!\n"
          ]
        }
      ],
      "source": [
        "def greet():\n",
        "\n",
        "  return 'Hello!'\n",
        "\n",
        "def call_function(func):\n",
        "\n",
        "    return func()\n",
        "\n",
        "print(call_function(greet))"
      ]
    },
    {
      "cell_type": "markdown",
      "source": [
        "**Key Points in Using Decorators:**\n",
        "* Preserving Function Metadata:\n",
        "Use functools.wraps() to preserve the metadata of the original function when decorators are applied.\n",
        "* Avoid Unnecessary Nesting of Decorators:\n",
        "Multiple decorators can make the code hard to follow. Avoid excessive nesting.\n",
        "\n",
        "**Practical Use Cases:**\n",
        "\n",
        "**Logging and Time Measurement:**\n",
        "\n",
        "*Logging Function Call:*\n",
        "\n",
        "def decorator_function(original_function):\n",
        "\n",
        "    def wrapper():\n",
        "\n",
        "        # Add extra functionality\n",
        "\n",
        "        return original_function()\n",
        "\n",
        "    return wrapper\n",
        "\n",
        "\n",
        "  **Example: A simple decorator that logs function calls**"
      ],
      "metadata": {
        "id": "Wc7yyoX-rGdL"
      }
    },
    {
      "cell_type": "code",
      "source": [
        "# Define the decorator function that accepts another function as input\n",
        "def log_decorator(func):\n",
        "    # Define the wrapper function that will be executed instead of the original\n",
        "    def wrapper():\n",
        "        # Log the name of the function being called\n",
        "        print(f'Calling Function: {func.__name__}')\n",
        "        # Call the original function\n",
        "        return func()\n",
        "    # Return the wrapper function\n",
        "    return wrapper\n",
        "\n",
        "# Apply the decorator to say_hello\n",
        "@log_decorator\n",
        "def say_hello():\n",
        "    print('Hello!')\n",
        "\n",
        "# Call the decorated function\n",
        "say_hello()\n"
      ],
      "metadata": {
        "colab": {
          "base_uri": "https://localhost:8080/"
        },
        "id": "zRKYMvkus-Dn",
        "outputId": "2ead0a82-4035-473a-9760-dcd57b84ad6d"
      },
      "execution_count": 3,
      "outputs": [
        {
          "output_type": "stream",
          "name": "stdout",
          "text": [
            "Calling Function: say_hello\n",
            "Hello!\n"
          ]
        }
      ]
    },
    {
      "cell_type": "markdown",
      "source": [
        "*Time Measurement:*\n",
        "\n",
        "import time\n",
        "\n",
        "def repeat(times):\n",
        "\n",
        "    def decorator(func):\n",
        "\n",
        "        def wrapper(*args, **kwargs):\n",
        "\n",
        "            for _ in range(times):\n",
        "\n",
        "                func(*args, **kwargs)\n",
        "\n",
        "        return wrapper\n",
        "\n",
        "    return decorator\n",
        "\n",
        ""
      ],
      "metadata": {
        "id": "cWnseoICv5bP"
      }
    },
    {
      "cell_type": "code",
      "source": [
        "import time  #For measuring consultation time\n",
        "\n",
        "# Decorator to log patient details\n",
        "def log_decorator(func):\n",
        "    def wrapper(patient_name):\n",
        "        print(f'📋 Recording patient details: {patient_name}')\n",
        "        return func(patient_name)\n",
        "    return wrapper\n",
        "\n",
        "# Decorator to time the consultation duration\n",
        "def timer_decorator(func):\n",
        "    def wrapper(patient_name):\n",
        "        start = time.time()  # Start timer\n",
        "        result = func(patient_name)  # Call the function\n",
        "        end = time.time()  # End timer\n",
        "        print(f'🕒 Consultation time: {end - start:.4f} seconds')\n",
        "        return result\n",
        "    return wrapper\n",
        "\n",
        "# Apply decorators (timer runs first, then logger)\n",
        "@log_decorator\n",
        "@timer_decorator\n",
        "def doctor_consultation(patient_name):\n",
        "    print(f'🩺 Doctor is consulting {patient_name}...')\n",
        "    time.sleep(1)  # Simulate time taken during consultation\n",
        "    print(f'💊 Prescription given to {patient_name}')\n",
        "\n",
        "# Call the function with a patient name\n",
        "doctor_consultation('Alice')\n",
        "\n"
      ],
      "metadata": {
        "colab": {
          "base_uri": "https://localhost:8080/"
        },
        "id": "rE9srahtwRCH",
        "outputId": "457fa05a-3fbd-4ee0-a68d-8b3db37c53c7"
      },
      "execution_count": 11,
      "outputs": [
        {
          "output_type": "stream",
          "name": "stdout",
          "text": [
            "📋 Recording patient details: Alice\n",
            "🩺 Doctor is consulting Alice...\n",
            "💊 Prescription given to Alice\n",
            "🕒 Consultation time: 1.0022 seconds\n"
          ]
        }
      ]
    },
    {
      "cell_type": "markdown",
      "source": [
        "**Passing Arguments to Decorators:**\n",
        "\n",
        "*Extra Function for Argument Passing:*\n",
        "\n",
        "A decorator can take arguments, for example, to repeat a function multiple times:\n",
        "\n",
        "@repeat(3)\n",
        "\n",
        "def greet():\n",
        "    print('Hello!')\n",
        "\n",
        "*Output:*\n",
        "\n",
        "Hello\n",
        "\n",
        "Hello\n",
        "\n",
        "Hello"
      ],
      "metadata": {
        "id": "42SjK-EF0Wrt"
      }
    },
    {
      "cell_type": "code",
      "source": [
        "def repeat(times):\n",
        "    # Decorator factory: takes number of repetitions\n",
        "    def decorator(func):\n",
        "        # Wrapper that calls the original function multiple times\n",
        "        def wrapper(*args, **kwargs):\n",
        "            for __ in range(times): #loop 'times' number of times\n",
        "                func(*args, **kwargs)  # Call function\n",
        "        return wrapper\n",
        "    return decorator\n",
        "\n",
        "@repeat(3)\n",
        "def greet():\n",
        "    print(\"Hello!\")\n",
        "\n",
        "greet()\n"
      ],
      "metadata": {
        "colab": {
          "base_uri": "https://localhost:8080/"
        },
        "id": "oz3j3ZE601T6",
        "outputId": "da8001ed-70f8-46ea-8eba-29707de52605"
      },
      "execution_count": 15,
      "outputs": [
        {
          "output_type": "stream",
          "name": "stdout",
          "text": [
            "Hello!\n",
            "Hello!\n",
            "Hello!\n"
          ]
        }
      ]
    },
    {
      "cell_type": "markdown",
      "source": [
        "**Best Practices for Decorators:**\n",
        "\n",
        "* Use decorators to extend functionality without modifying the original code.\n",
        "* Preserve function metadata using functools.wraps().\n",
        "* Avoid unnecessary nesting of decorators to keep the code readable and maintainable.\n",
        "\n",
        "\n",
        "\n",
        "**Conclusion:**\n",
        "\n",
        "Decorators provide a clean, reusable way to add additional functionality to functions, such as logging or timing, without changing the core function.\n",
        "They are an essential concept for writing cleaner, more modular code in Python, especially when the same functionality needs to be applied to multiple functions.\n"
      ],
      "metadata": {
        "id": "pbLjNXPq2okw"
      }
    }
  ]
}