{
  "nbformat": 4,
  "nbformat_minor": 0,
  "metadata": {
    "colab": {
      "provenance": []
    },
    "kernelspec": {
      "name": "python3",
      "display_name": "Python 3"
    },
    "language_info": {
      "name": "python"
    }
  },
  "cells": [
    {
      "cell_type": "markdown",
      "source": [
        "# Introduction to Functions & Built-in Functions\n",
        "\n",
        "To understand functions, let's consider an analogy. Imagine that a chef works in a restaurant, and he gets repeated orders of recipes. The chef has two options:\n",
        "\n",
        "- **Option 1**: He takes a recipe book, and every time he gets an order, he writes down the steps of that order and starts making the recipe.\n",
        "- **Option 2**: He writes down the recipe once and hangs it at one place. Whenever he gets an order for the same recipe, he simply follows the steps and makes the recipe.\n",
        "\n",
        "In the same way, when we need to do something repetitively in Python for a specific output, instead of writing the same lines of code again and again, we define a **function**. This function can be called whenever needed.\n",
        "\n",
        "---\n",
        "\n",
        "## Benefits of Functions\n",
        "\n",
        "Using functions in programming offers several benefits:\n",
        "\n",
        "- **Code Reusability**: You do not need to rewrite the same code over and over again. Functions allow you to reuse the code, making your program more efficient.\n",
        "- **Concise, Clean, and Modular Code**: If you have multiple tasks to perform, you can create a function for each task. This makes the code more organized and easier to understand. For example, instead of writing 10 lines of code for 10 tasks, you can create functions for each and use them multiple times.\n",
        "- **Error Reduction**: When performing repetitive tasks, the chances of making mistakes increase. By using functions, you reduce the possibility of errors as you are calling the same code instead of re-writing it every time.\n",
        "\n",
        "---\n",
        "\n",
        "## How Functions Work\n",
        "\n",
        "### Function Definition:\n",
        "To create a function in Python, you define it with a name, and it can take inputs (**parameters**) and produce outputs.\n",
        "\n",
        "**Example of a Function (Analogy)**:\n",
        "- Think of a juicer machine:\n",
        "  - **Input**: A fruit.\n",
        "  - **Output**: Juice made from that fruit.\n",
        "\n",
        "You can use this machine repeatedly for different fruits to get juice — similar to how a function works with different inputs and consistent behavior.\n",
        "\n",
        "---\n",
        "\n",
        "## Python Built-in Functions\n",
        "\n",
        "Python provides many built-in functions to perform common tasks. Here are a few examples:\n",
        "\n",
        "1. len():\n",
        "\n",
        "Returns the length of an object (string, list, etc.)\n",
        "\n"
      ],
      "metadata": {
        "id": "C3Ch14sq8XL5"
      }
    },
    {
      "cell_type": "code",
      "execution_count": 1,
      "metadata": {
        "colab": {
          "base_uri": "https://localhost:8080/"
        },
        "id": "pGvHZuaz8NE2",
        "outputId": "f6a9baef-0ee2-497f-ccfb-ee22a8d91028"
      },
      "outputs": [
        {
          "output_type": "stream",
          "name": "stdout",
          "text": [
            "6\n"
          ]
        }
      ],
      "source": [
        "text = \"Python\"\n",
        "\n",
        "print(len(text))  # Output: 6"
      ]
    },
    {
      "cell_type": "markdown",
      "source": [
        "2. max():\n",
        "\n",
        "Returns the maximum value from a list."
      ],
      "metadata": {
        "id": "Gvetj3uy87fX"
      }
    },
    {
      "cell_type": "code",
      "source": [
        "numbers = [1, 2, 3, 4, 5]\n",
        "\n",
        "print(max(numbers))  # Output: 5"
      ],
      "metadata": {
        "colab": {
          "base_uri": "https://localhost:8080/"
        },
        "id": "QhUxJngb8-Q2",
        "outputId": "e25cfd86-5446-4fee-d970-a4b609c633e3"
      },
      "execution_count": 2,
      "outputs": [
        {
          "output_type": "stream",
          "name": "stdout",
          "text": [
            "5\n"
          ]
        }
      ]
    },
    {
      "cell_type": "markdown",
      "source": [
        "3. sorted():\n",
        "\n",
        "Sorts a list in ascending order."
      ],
      "metadata": {
        "id": "xF1qIq9j9B2I"
      }
    },
    {
      "cell_type": "code",
      "source": [
        "ratings = [4.2, 3.5, 5.0, 3.8]\n",
        "\n",
        "print(sorted(ratings))  # Output: [3.5, 3.8, 4.2, 5.0]"
      ],
      "metadata": {
        "colab": {
          "base_uri": "https://localhost:8080/"
        },
        "id": "GulybRTw9Gl8",
        "outputId": "e06259b6-8a39-4714-b018-8ae44b04c2d0"
      },
      "execution_count": 3,
      "outputs": [
        {
          "output_type": "stream",
          "name": "stdout",
          "text": [
            "[3.5, 3.8, 4.2, 5.0]\n"
          ]
        }
      ]
    },
    {
      "cell_type": "markdown",
      "source": [
        "4. range():\n",
        "\n",
        "Generates a sequence of numbers."
      ],
      "metadata": {
        "id": "lezNGhDO9MpN"
      }
    },
    {
      "cell_type": "code",
      "source": [
        "for i in range(5):\n",
        "\n",
        "    print(i)  # Output: 0, 1, 2, 3, 4\n",
        "\n",
        ""
      ],
      "metadata": {
        "colab": {
          "base_uri": "https://localhost:8080/"
        },
        "id": "VKQgKL6u9RmQ",
        "outputId": "042121b4-e474-43d7-e553-85b8b1e93c79"
      },
      "execution_count": 4,
      "outputs": [
        {
          "output_type": "stream",
          "name": "stdout",
          "text": [
            "0\n",
            "1\n",
            "2\n",
            "3\n",
            "4\n"
          ]
        }
      ]
    },
    {
      "cell_type": "markdown",
      "source": [
        "5. id():\n",
        "\n",
        "Returns the memory address of an object."
      ],
      "metadata": {
        "id": "nXjMMhfs9T4R"
      }
    },
    {
      "cell_type": "code",
      "source": [
        "x = 10\n",
        "\n",
        "print(id(x))  # Output: Memory address of the object"
      ],
      "metadata": {
        "colab": {
          "base_uri": "https://localhost:8080/"
        },
        "id": "wPHqOJGJ9Yak",
        "outputId": "a1fd3eae-498e-4d5b-8840-abd64b3590fe"
      },
      "execution_count": 5,
      "outputs": [
        {
          "output_type": "stream",
          "name": "stdout",
          "text": [
            "10758024\n"
          ]
        }
      ]
    },
    {
      "cell_type": "markdown",
      "source": [
        "6. eval():\n",
        "\n",
        "Evaluates a string as a Python expression."
      ],
      "metadata": {
        "id": "xegDNr_H9daq"
      }
    },
    {
      "cell_type": "code",
      "source": [
        "expression = \"5 + 3 * 2\"\n",
        "\n",
        "result = eval(expression)\n",
        "\n",
        "print(result) # Output: 11"
      ],
      "metadata": {
        "colab": {
          "base_uri": "https://localhost:8080/"
        },
        "id": "m8hqHwcJ9jpb",
        "outputId": "0140d85d-a0d7-43bb-fbb4-103d15086781"
      },
      "execution_count": 6,
      "outputs": [
        {
          "output_type": "stream",
          "name": "stdout",
          "text": [
            "11\n"
          ]
        }
      ]
    },
    {
      "cell_type": "markdown",
      "source": [
        "## Function Execution with Input and Output\n",
        "\n",
        "Functions can take **input** and provide **output**. Here are some examples of how to use them effectively.\n",
        "\n",
        "---\n",
        "\n",
        "### Input and Output Example:\n",
        "\n",
        "If you want to display a message and take input from the user, you can use the built-in `input()` function.\n"
      ],
      "metadata": {
        "id": "PC442MkN9uZu"
      }
    },
    {
      "cell_type": "code",
      "source": [
        "name = input(\"Enter your name: \")\n",
        "\n",
        "print(\"Hello\", name)"
      ],
      "metadata": {
        "colab": {
          "base_uri": "https://localhost:8080/"
        },
        "id": "i5Pc-Idj9yjI",
        "outputId": "5687fb1a-fc1b-4c81-e78b-311fe40c144b"
      },
      "execution_count": 7,
      "outputs": [
        {
          "output_type": "stream",
          "name": "stdout",
          "text": [
            "Enter your name: Mehwish\n",
            "Hello Mehwish\n"
          ]
        }
      ]
    },
    {
      "cell_type": "markdown",
      "source": [
        "###Meaningful Messages:\n",
        "\n",
        " It is important to display meaningful messages for better readability and user experience. For example:"
      ],
      "metadata": {
        "id": "SIwk12HA94Gz"
      }
    },
    {
      "cell_type": "code",
      "source": [
        "print(f\"The length of the string is {len(name)}\")"
      ],
      "metadata": {
        "colab": {
          "base_uri": "https://localhost:8080/"
        },
        "id": "swjji69-99x_",
        "outputId": "fb5bd8c8-21e5-49ed-e3cb-91d2221a067d"
      },
      "execution_count": 8,
      "outputs": [
        {
          "output_type": "stream",
          "name": "stdout",
          "text": [
            "The length of the string is 7\n"
          ]
        }
      ]
    },
    {
      "cell_type": "markdown",
      "source": [
        "## Sorting and Evaluating Data\n",
        "\n",
        "---\n",
        "\n",
        "### `sorted()` Function\n",
        "\n",
        "By default, the `sorted()` function sorts numbers or lists in **ascending** order.  \n",
        "You can also sort in **descending** order by specifying the `reverse=True` parameter.\n"
      ],
      "metadata": {
        "id": "D-CZh2UC-Ifu"
      }
    },
    {
      "cell_type": "code",
      "source": [
        "ratings = [4.5, 3.0, 5.0, 4.0]\n",
        "\n",
        "# Ascending order\n",
        "print(\"Ascending:\", sorted(ratings))\n",
        "\n",
        "# Descending order\n",
        "print(\"Descending:\", sorted(ratings, reverse=True))\n"
      ],
      "metadata": {
        "colab": {
          "base_uri": "https://localhost:8080/"
        },
        "id": "cWsgadF5-KQv",
        "outputId": "c0d72747-134b-4fd1-a38b-44f9776cfafe"
      },
      "execution_count": 9,
      "outputs": [
        {
          "output_type": "stream",
          "name": "stdout",
          "text": [
            "Ascending: [3.0, 4.0, 4.5, 5.0]\n",
            "Descending: [5.0, 4.5, 4.0, 3.0]\n"
          ]
        }
      ]
    },
    {
      "cell_type": "markdown",
      "source": [
        "---\n",
        "\n",
        "### Using `eval()` for Mathematical Expressions\n",
        "\n",
        "If you have a mathematical expression in string form, you can use the `eval()` function to compute the result.\n"
      ],
      "metadata": {
        "id": "IysXdZeW-Uaf"
      }
    },
    {
      "cell_type": "code",
      "source": [
        "expression = \"5 + 3 * 2\"\n",
        "result = eval(expression)\n",
        "print(\"Result:\", result)  # Output: 11\n"
      ],
      "metadata": {
        "colab": {
          "base_uri": "https://localhost:8080/"
        },
        "id": "-1ggmkSi-W0Z",
        "outputId": "0d2ade62-c657-4f11-fbe8-b2f50dc8acd8"
      },
      "execution_count": 10,
      "outputs": [
        {
          "output_type": "stream",
          "name": "stdout",
          "text": [
            "Result: 11\n"
          ]
        }
      ]
    },
    {
      "cell_type": "markdown",
      "source": [
        "---\n",
        "\n",
        "## Python Functions and Their Types\n",
        "\n",
        "Python has two main types of functions:\n",
        "\n",
        "### Built-in Functions\n",
        "These are predefined functions provided by Python to perform common tasks.\n",
        "\n",
        "Examples:\n",
        "- `print()`\n",
        "- `input()`\n",
        "- `sorted()`\n",
        "- `max()`\n",
        "- `len()`\n",
        "- `eval()`\n",
        "\n",
        "---\n",
        "\n",
        "### User-defined Functions\n",
        "\n",
        "These are functions that you define yourself, based on the needs of your program.\n",
        "\n",
        "#### Example:\n",
        "\n"
      ],
      "metadata": {
        "id": "IPEvj3m9-eiW"
      }
    },
    {
      "cell_type": "code",
      "source": [
        "def greet(name):\n",
        "    print(f\"Hello, {name}!\")\n",
        "greet(\"Alice\")  # Output: Hello, Alice!\n"
      ],
      "metadata": {
        "colab": {
          "base_uri": "https://localhost:8080/"
        },
        "id": "3Mymr8Dl-izg",
        "outputId": "a705fd19-a887-4b07-9ab1-afc9b9d14674"
      },
      "execution_count": 12,
      "outputs": [
        {
          "output_type": "stream",
          "name": "stdout",
          "text": [
            "Hello, Alice!\n"
          ]
        }
      ]
    },
    {
      "cell_type": "markdown",
      "source": [
        "---\n",
        "\n",
        "## Final Thoughts\n",
        "\n",
        "- Functions are essential for writing **efficient**, **reusable**, and **modular** code.\n",
        "- Python provides a rich set of **built-in functions** for everyday tasks.\n",
        "- If a built-in function doesn’t meet your needs, you can define your own **user-defined function**.\n",
        "- Practice using both types of functions to write clean and maintainable code.\n",
        "\n",
        "> As you write more code, you'll naturally get better at knowing when to use (or create) functions. Keep experimenting and learning!\n",
        "\n"
      ],
      "metadata": {
        "id": "wVC-frzQ-sIm"
      }
    }
  ]
}