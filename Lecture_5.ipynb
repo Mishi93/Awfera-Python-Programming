{
  "nbformat": 4,
  "nbformat_minor": 0,
  "metadata": {
    "colab": {
      "provenance": []
    },
    "kernelspec": {
      "name": "python3",
      "display_name": "Python 3"
    },
    "language_info": {
      "name": "python"
    }
  },
  "cells": [
    {
      "cell_type": "markdown",
      "source": [
        "#Operators in Python\n",
        "\n",
        "In this lecture, we focus on the various types of operators in Python and their benefits. Operators are essential for performing calculations, building logic, and controlling the flow of programs. This document covers arithmetic, assignment, comparison, and logical operators, along with their practical applications.\n",
        "\n",
        "\n",
        "**Main Points**\n",
        "\n",
        "1. Arithmetic Operators\n",
        "\n",
        "Arithmetic operators are used to perform basic mathematical operations such as addition, subtraction, multiplication, and division.\n",
        "\n",
        "* Addition (+): Adds two numbers.\n",
        "* Subtraction (-): Subtracts one number from another.\n",
        "* Multiplication (*): Multiplies two numbers.\n",
        "* Division (/): Divides one number by another, resulting in a float value.\n",
        "* Modulus (%): Returns the remainder of a division.\n",
        "* Exponentiation (\"**\"): Calculates the power of a number (e.g., 10 ** 3 = 1000)"
      ],
      "metadata": {
        "id": "VXqNAMT5vRBX"
      }
    },
    {
      "cell_type": "markdown",
      "source": [
        "**Floor Division vs. Simple Division**\n",
        "\n",
        "* Simple Division: Returns a float value (e.g., 10 / 3 = 3.33333).\n",
        "* Floor Division: Returns an integer value without decimal points (e.g., 10 // 3 = 3).\n",
        "\n",
        "**Highlighted Question**\n",
        "What is the difference between simple division and floor division?\n",
        "**Answer** Simple division returns a float value, while floor division returns an integer value by discarding the decimal part.\n"
      ],
      "metadata": {
        "id": "U8gOlQWQv4-D"
      }
    },
    {
      "cell_type": "code",
      "execution_count": 1,
      "metadata": {
        "colab": {
          "base_uri": "https://localhost:8080/"
        },
        "id": "EhM8GLOqu_Lg",
        "outputId": "cbdd5f09-3fd1-4cf2-ae19-0235ff963e8d"
      },
      "outputs": [
        {
          "output_type": "stream",
          "name": "stdout",
          "text": [
            "3.3333333333333335\n",
            "3\n"
          ]
        }
      ],
      "source": [
        "a = 10\n",
        "\n",
        "b = 3\n",
        "\n",
        "print(a / b)   # 3.33333 (Simple Division)\n",
        "\n",
        "print(a // b)  # 3 (floor Division)\n",
        "\n",
        ""
      ]
    },
    {
      "cell_type": "markdown",
      "source": [
        "**Assignment Operators**\n",
        "\n",
        "Assignment operators are used to assign values to variables.\n",
        "\n",
        "* Equal (=): Assigns a value to a variable (e.g., x = 5).\n",
        "* Add and Assign (+=): Adds a value to the variable and assigns the result (e.g., x += 3 adds 3 to x)."
      ],
      "metadata": {
        "id": "JHbutLE7wUkZ"
      }
    },
    {
      "cell_type": "code",
      "source": [
        "x = 5\n",
        "\n",
        "x += 3  # x becomes 8\n",
        "\n",
        "print(x)  # Output: 8"
      ],
      "metadata": {
        "colab": {
          "base_uri": "https://localhost:8080/"
        },
        "id": "ICCAkvAwwaF5",
        "outputId": "6003a9fa-0bd9-4dfc-dc6a-dd2023264db9"
      },
      "execution_count": 2,
      "outputs": [
        {
          "output_type": "stream",
          "name": "stdout",
          "text": [
            "8\n"
          ]
        }
      ]
    },
    {
      "cell_type": "markdown",
      "source": [
        "**Comparison Operators**\n",
        "\n",
        "Comparison operators are used to compare two values and return a Boolean result (True or False).\n",
        "\n",
        "* Greater Than (>): Checks if the left value is greater than the right value.\n",
        "* Less Than (<): Checks if the left value is less than the right value.\n",
        "* Equal To (==): Checks if two values are equal.\n",
        "* Not Equal To (!=): Checks if two values are not equal.\n",
        "* Greater Than or Equal To (>=): Checks if the left value is greater than or equal to the right value.\n",
        "* Less Than or Equal To (<=): Checks if the left value is less than or equal to the right value.\n",
        "\n",
        "**Key Insight:** Comparison operators are crucial for logic building, as they help determine the flow of a program based on conditions."
      ],
      "metadata": {
        "id": "lxP_c0lRwdFC"
      }
    },
    {
      "cell_type": "code",
      "source": [
        "x = 5\n",
        "\n",
        "y = 10\n",
        "\n",
        "print(x > y)   # False\n",
        "\n",
        "print(x != y)  # True\n",
        "\n",
        "print(x == y)  # False\n",
        "\n",
        "print(x >= y)  # False"
      ],
      "metadata": {
        "colab": {
          "base_uri": "https://localhost:8080/"
        },
        "id": "nbWcQ7UGwnlV",
        "outputId": "bfd6c827-dd9d-4c99-b69a-6b8d43a02eb2"
      },
      "execution_count": 3,
      "outputs": [
        {
          "output_type": "stream",
          "name": "stdout",
          "text": [
            "False\n",
            "True\n",
            "False\n",
            "False\n"
          ]
        }
      ]
    },
    {
      "cell_type": "markdown",
      "source": [
        "**Logical Operators**\n",
        "\n",
        "Logical operators are used to combine multiple conditions and return a Boolean result.\n",
        "\n",
        "* AND (and): Returns True if both conditions are true.\n",
        "* OR (or): Returns True if at least one condition is true.\n",
        "* NOT (not): Reverses the Boolean value of a condition.\n",
        "\n",
        "**Key Insight:** Logical operators are essential for complex logic building, especially when multiple conditions need to be evaluated."
      ],
      "metadata": {
        "id": "vK9UqL1fwvWm"
      }
    },
    {
      "cell_type": "code",
      "source": [
        "a = True\n",
        "\n",
        "b = False\n",
        "\n",
        "print(a and b)  # False\n",
        "\n",
        "print(a or b)   # True\n",
        "\n",
        "print(not a)    # False"
      ],
      "metadata": {
        "colab": {
          "base_uri": "https://localhost:8080/"
        },
        "id": "NHsQIIvWw3eK",
        "outputId": "ca6d41e8-b07c-430b-d905-dab5da7cbb52"
      },
      "execution_count": 4,
      "outputs": [
        {
          "output_type": "stream",
          "name": "stdout",
          "text": [
            "False\n",
            "True\n",
            "False\n"
          ]
        }
      ]
    },
    {
      "cell_type": "markdown",
      "source": [
        "**Practical Applications of Operators**\n",
        "\n",
        "Operators are widely used in programming for:\n",
        "\n",
        "* Performing calculations on variables.\n",
        "* Building logic for decision-making.\n",
        "* Controlling the flow of programs based on conditions."
      ],
      "metadata": {
        "id": "q5luDUC9xDVd"
      }
    },
    {
      "cell_type": "code",
      "source": [
        "# Using arithmetic and comparison operators\n",
        "\n",
        "x = 10\n",
        "\n",
        "y = 3\n",
        "\n",
        "if x % y == 1:  # Modulus operation\n",
        "\n",
        "    print(\"Remainder is 1\")\n",
        "\n",
        "\n",
        "\n",
        "# Using logical operators\n",
        "\n",
        "if x > 5 and y < 5:\n",
        "\n",
        "    print(\"Both conditions are true\")\n",
        "\n",
        ""
      ],
      "metadata": {
        "colab": {
          "base_uri": "https://localhost:8080/"
        },
        "id": "fd8ojXUtxIKn",
        "outputId": "8721bffa-249e-4fc1-cb86-98ab6662b30c"
      },
      "execution_count": 5,
      "outputs": [
        {
          "output_type": "stream",
          "name": "stdout",
          "text": [
            "Remainder is 1\n",
            "Both conditions are true\n"
          ]
        }
      ]
    },
    {
      "cell_type": "markdown",
      "source": [
        "**Final Thoughts**\n",
        "\n",
        "Operators are the backbone of Python programming, enabling developers to perform calculations, assign values, compare data, and build complex logic. Understanding the differences between arithmetic, assignment, comparison, and logical operators is crucial for writing efficient and effective code. Practicing these operators in various scenarios will enhance your logic-building skills and prepare you for real-world programming challenges."
      ],
      "metadata": {
        "id": "1iTqcWFOxQMF"
      }
    }
  ]
}